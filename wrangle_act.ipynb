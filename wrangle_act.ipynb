{
 "cells": [
  {
   "cell_type": "markdown",
   "metadata": {
    "extensions": {
     "jupyter_dashboards": {
      "version": 1,
      "views": {
       "grid_default": {
        "col": 0,
        "height": 4,
        "hidden": false,
        "row": 0,
        "width": 4
       },
       "report_default": {
        "hidden": false
       }
      }
     }
    }
   },
   "source": [
    "# Project: Wrangling and Analyzing Data"
   ]
  },
  {
   "cell_type": "markdown",
   "metadata": {},
   "source": [
    "## Introduction:\n",
    "In this project, the tweet archive of WeRateDogs (a Twitter account that rates peoples' dogs) would be gathered (in various formats), assessed, cleaned and used for deriving good and fair insights, then presentations of visualizations to explain the insights.\n",
    "The steps taken in the wrangling of the data were dutifully documented as follows:"
   ]
  },
  {
   "cell_type": "markdown",
   "metadata": {},
   "source": [
    "## Data Gathering\n",
    "In this section, the data needed for the project analyses would be gathered and loaded into the workbook."
   ]
  },
  {
   "cell_type": "code",
   "execution_count": 1,
   "metadata": {},
   "outputs": [],
   "source": [
    "#import the necessary libraries\n",
    "import pandas as pd\n",
    "import numpy as np\n",
    "import requests\n",
    "import json\n",
    "import matplotlib.pyplot as plt\n",
    "import seaborn as sns\n",
    "%matplotlib inline"
   ]
  },
  {
   "cell_type": "code",
   "execution_count": 2,
   "metadata": {
    "extensions": {
     "jupyter_dashboards": {
      "version": 1,
      "views": {
       "grid_default": {
        "hidden": true
       },
       "report_default": {
        "hidden": true
       }
      }
     }
    }
   },
   "outputs": [
    {
     "data": {
      "text/html": [
       "<div>\n",
       "<style scoped>\n",
       "    .dataframe tbody tr th:only-of-type {\n",
       "        vertical-align: middle;\n",
       "    }\n",
       "\n",
       "    .dataframe tbody tr th {\n",
       "        vertical-align: top;\n",
       "    }\n",
       "\n",
       "    .dataframe thead th {\n",
       "        text-align: right;\n",
       "    }\n",
       "</style>\n",
       "<table border=\"1\" class=\"dataframe\">\n",
       "  <thead>\n",
       "    <tr style=\"text-align: right;\">\n",
       "      <th></th>\n",
       "      <th>tweet_id</th>\n",
       "      <th>in_reply_to_status_id</th>\n",
       "      <th>in_reply_to_user_id</th>\n",
       "      <th>timestamp</th>\n",
       "      <th>source</th>\n",
       "      <th>text</th>\n",
       "      <th>retweeted_status_id</th>\n",
       "      <th>retweeted_status_user_id</th>\n",
       "      <th>retweeted_status_timestamp</th>\n",
       "      <th>expanded_urls</th>\n",
       "      <th>rating_numerator</th>\n",
       "      <th>rating_denominator</th>\n",
       "      <th>name</th>\n",
       "      <th>doggo</th>\n",
       "      <th>floofer</th>\n",
       "      <th>pupper</th>\n",
       "      <th>puppo</th>\n",
       "    </tr>\n",
       "  </thead>\n",
       "  <tbody>\n",
       "    <tr>\n",
       "      <th>0</th>\n",
       "      <td>892420643555336193</td>\n",
       "      <td>NaN</td>\n",
       "      <td>NaN</td>\n",
       "      <td>2017-08-01 16:23:56 +0000</td>\n",
       "      <td>&lt;a href=\"http://twitter.com/download/iphone\" r...</td>\n",
       "      <td>This is Phineas. He's a mystical boy. Only eve...</td>\n",
       "      <td>NaN</td>\n",
       "      <td>NaN</td>\n",
       "      <td>NaN</td>\n",
       "      <td>https://twitter.com/dog_rates/status/892420643...</td>\n",
       "      <td>13</td>\n",
       "      <td>10</td>\n",
       "      <td>Phineas</td>\n",
       "      <td>None</td>\n",
       "      <td>None</td>\n",
       "      <td>None</td>\n",
       "      <td>None</td>\n",
       "    </tr>\n",
       "    <tr>\n",
       "      <th>1</th>\n",
       "      <td>892177421306343426</td>\n",
       "      <td>NaN</td>\n",
       "      <td>NaN</td>\n",
       "      <td>2017-08-01 00:17:27 +0000</td>\n",
       "      <td>&lt;a href=\"http://twitter.com/download/iphone\" r...</td>\n",
       "      <td>This is Tilly. She's just checking pup on you....</td>\n",
       "      <td>NaN</td>\n",
       "      <td>NaN</td>\n",
       "      <td>NaN</td>\n",
       "      <td>https://twitter.com/dog_rates/status/892177421...</td>\n",
       "      <td>13</td>\n",
       "      <td>10</td>\n",
       "      <td>Tilly</td>\n",
       "      <td>None</td>\n",
       "      <td>None</td>\n",
       "      <td>None</td>\n",
       "      <td>None</td>\n",
       "    </tr>\n",
       "    <tr>\n",
       "      <th>2</th>\n",
       "      <td>891815181378084864</td>\n",
       "      <td>NaN</td>\n",
       "      <td>NaN</td>\n",
       "      <td>2017-07-31 00:18:03 +0000</td>\n",
       "      <td>&lt;a href=\"http://twitter.com/download/iphone\" r...</td>\n",
       "      <td>This is Archie. He is a rare Norwegian Pouncin...</td>\n",
       "      <td>NaN</td>\n",
       "      <td>NaN</td>\n",
       "      <td>NaN</td>\n",
       "      <td>https://twitter.com/dog_rates/status/891815181...</td>\n",
       "      <td>12</td>\n",
       "      <td>10</td>\n",
       "      <td>Archie</td>\n",
       "      <td>None</td>\n",
       "      <td>None</td>\n",
       "      <td>None</td>\n",
       "      <td>None</td>\n",
       "    </tr>\n",
       "    <tr>\n",
       "      <th>3</th>\n",
       "      <td>891689557279858688</td>\n",
       "      <td>NaN</td>\n",
       "      <td>NaN</td>\n",
       "      <td>2017-07-30 15:58:51 +0000</td>\n",
       "      <td>&lt;a href=\"http://twitter.com/download/iphone\" r...</td>\n",
       "      <td>This is Darla. She commenced a snooze mid meal...</td>\n",
       "      <td>NaN</td>\n",
       "      <td>NaN</td>\n",
       "      <td>NaN</td>\n",
       "      <td>https://twitter.com/dog_rates/status/891689557...</td>\n",
       "      <td>13</td>\n",
       "      <td>10</td>\n",
       "      <td>Darla</td>\n",
       "      <td>None</td>\n",
       "      <td>None</td>\n",
       "      <td>None</td>\n",
       "      <td>None</td>\n",
       "    </tr>\n",
       "    <tr>\n",
       "      <th>4</th>\n",
       "      <td>891327558926688256</td>\n",
       "      <td>NaN</td>\n",
       "      <td>NaN</td>\n",
       "      <td>2017-07-29 16:00:24 +0000</td>\n",
       "      <td>&lt;a href=\"http://twitter.com/download/iphone\" r...</td>\n",
       "      <td>This is Franklin. He would like you to stop ca...</td>\n",
       "      <td>NaN</td>\n",
       "      <td>NaN</td>\n",
       "      <td>NaN</td>\n",
       "      <td>https://twitter.com/dog_rates/status/891327558...</td>\n",
       "      <td>12</td>\n",
       "      <td>10</td>\n",
       "      <td>Franklin</td>\n",
       "      <td>None</td>\n",
       "      <td>None</td>\n",
       "      <td>None</td>\n",
       "      <td>None</td>\n",
       "    </tr>\n",
       "  </tbody>\n",
       "</table>\n",
       "</div>"
      ],
      "text/plain": [
       "             tweet_id  in_reply_to_status_id  in_reply_to_user_id  \\\n",
       "0  892420643555336193                    NaN                  NaN   \n",
       "1  892177421306343426                    NaN                  NaN   \n",
       "2  891815181378084864                    NaN                  NaN   \n",
       "3  891689557279858688                    NaN                  NaN   \n",
       "4  891327558926688256                    NaN                  NaN   \n",
       "\n",
       "                   timestamp  \\\n",
       "0  2017-08-01 16:23:56 +0000   \n",
       "1  2017-08-01 00:17:27 +0000   \n",
       "2  2017-07-31 00:18:03 +0000   \n",
       "3  2017-07-30 15:58:51 +0000   \n",
       "4  2017-07-29 16:00:24 +0000   \n",
       "\n",
       "                                              source  \\\n",
       "0  <a href=\"http://twitter.com/download/iphone\" r...   \n",
       "1  <a href=\"http://twitter.com/download/iphone\" r...   \n",
       "2  <a href=\"http://twitter.com/download/iphone\" r...   \n",
       "3  <a href=\"http://twitter.com/download/iphone\" r...   \n",
       "4  <a href=\"http://twitter.com/download/iphone\" r...   \n",
       "\n",
       "                                                text  retweeted_status_id  \\\n",
       "0  This is Phineas. He's a mystical boy. Only eve...                  NaN   \n",
       "1  This is Tilly. She's just checking pup on you....                  NaN   \n",
       "2  This is Archie. He is a rare Norwegian Pouncin...                  NaN   \n",
       "3  This is Darla. She commenced a snooze mid meal...                  NaN   \n",
       "4  This is Franklin. He would like you to stop ca...                  NaN   \n",
       "\n",
       "   retweeted_status_user_id retweeted_status_timestamp  \\\n",
       "0                       NaN                        NaN   \n",
       "1                       NaN                        NaN   \n",
       "2                       NaN                        NaN   \n",
       "3                       NaN                        NaN   \n",
       "4                       NaN                        NaN   \n",
       "\n",
       "                                       expanded_urls  rating_numerator  \\\n",
       "0  https://twitter.com/dog_rates/status/892420643...                13   \n",
       "1  https://twitter.com/dog_rates/status/892177421...                13   \n",
       "2  https://twitter.com/dog_rates/status/891815181...                12   \n",
       "3  https://twitter.com/dog_rates/status/891689557...                13   \n",
       "4  https://twitter.com/dog_rates/status/891327558...                12   \n",
       "\n",
       "   rating_denominator      name doggo floofer pupper puppo  \n",
       "0                  10   Phineas  None    None   None  None  \n",
       "1                  10     Tilly  None    None   None  None  \n",
       "2                  10    Archie  None    None   None  None  \n",
       "3                  10     Darla  None    None   None  None  \n",
       "4                  10  Franklin  None    None   None  None  "
      ]
     },
     "execution_count": 2,
     "metadata": {},
     "output_type": "execute_result"
    }
   ],
   "source": [
    "#load in the WeRateDogs Twitter archive data\n",
    "twitter_archive = pd.read_csv('twitter-archive-enhanced.csv')\n",
    "twitter_archive.head()"
   ]
  },
  {
   "cell_type": "code",
   "execution_count": 3,
   "metadata": {},
   "outputs": [
    {
     "data": {
      "text/html": [
       "<div>\n",
       "<style scoped>\n",
       "    .dataframe tbody tr th:only-of-type {\n",
       "        vertical-align: middle;\n",
       "    }\n",
       "\n",
       "    .dataframe tbody tr th {\n",
       "        vertical-align: top;\n",
       "    }\n",
       "\n",
       "    .dataframe thead th {\n",
       "        text-align: right;\n",
       "    }\n",
       "</style>\n",
       "<table border=\"1\" class=\"dataframe\">\n",
       "  <thead>\n",
       "    <tr style=\"text-align: right;\">\n",
       "      <th></th>\n",
       "      <th>tweet_id</th>\n",
       "      <th>jpg_url</th>\n",
       "      <th>img_num</th>\n",
       "      <th>p1</th>\n",
       "      <th>p1_conf</th>\n",
       "      <th>p1_dog</th>\n",
       "      <th>p2</th>\n",
       "      <th>p2_conf</th>\n",
       "      <th>p2_dog</th>\n",
       "      <th>p3</th>\n",
       "      <th>p3_conf</th>\n",
       "      <th>p3_dog</th>\n",
       "    </tr>\n",
       "  </thead>\n",
       "  <tbody>\n",
       "    <tr>\n",
       "      <th>0</th>\n",
       "      <td>666020888022790149</td>\n",
       "      <td>https://pbs.twimg.com/media/CT4udn0WwAA0aMy.jpg</td>\n",
       "      <td>1</td>\n",
       "      <td>Welsh_springer_spaniel</td>\n",
       "      <td>0.465074</td>\n",
       "      <td>True</td>\n",
       "      <td>collie</td>\n",
       "      <td>0.156665</td>\n",
       "      <td>True</td>\n",
       "      <td>Shetland_sheepdog</td>\n",
       "      <td>0.061428</td>\n",
       "      <td>True</td>\n",
       "    </tr>\n",
       "    <tr>\n",
       "      <th>1</th>\n",
       "      <td>666029285002620928</td>\n",
       "      <td>https://pbs.twimg.com/media/CT42GRgUYAA5iDo.jpg</td>\n",
       "      <td>1</td>\n",
       "      <td>redbone</td>\n",
       "      <td>0.506826</td>\n",
       "      <td>True</td>\n",
       "      <td>miniature_pinscher</td>\n",
       "      <td>0.074192</td>\n",
       "      <td>True</td>\n",
       "      <td>Rhodesian_ridgeback</td>\n",
       "      <td>0.072010</td>\n",
       "      <td>True</td>\n",
       "    </tr>\n",
       "    <tr>\n",
       "      <th>2</th>\n",
       "      <td>666033412701032449</td>\n",
       "      <td>https://pbs.twimg.com/media/CT4521TWwAEvMyu.jpg</td>\n",
       "      <td>1</td>\n",
       "      <td>German_shepherd</td>\n",
       "      <td>0.596461</td>\n",
       "      <td>True</td>\n",
       "      <td>malinois</td>\n",
       "      <td>0.138584</td>\n",
       "      <td>True</td>\n",
       "      <td>bloodhound</td>\n",
       "      <td>0.116197</td>\n",
       "      <td>True</td>\n",
       "    </tr>\n",
       "    <tr>\n",
       "      <th>3</th>\n",
       "      <td>666044226329800704</td>\n",
       "      <td>https://pbs.twimg.com/media/CT5Dr8HUEAA-lEu.jpg</td>\n",
       "      <td>1</td>\n",
       "      <td>Rhodesian_ridgeback</td>\n",
       "      <td>0.408143</td>\n",
       "      <td>True</td>\n",
       "      <td>redbone</td>\n",
       "      <td>0.360687</td>\n",
       "      <td>True</td>\n",
       "      <td>miniature_pinscher</td>\n",
       "      <td>0.222752</td>\n",
       "      <td>True</td>\n",
       "    </tr>\n",
       "    <tr>\n",
       "      <th>4</th>\n",
       "      <td>666049248165822465</td>\n",
       "      <td>https://pbs.twimg.com/media/CT5IQmsXIAAKY4A.jpg</td>\n",
       "      <td>1</td>\n",
       "      <td>miniature_pinscher</td>\n",
       "      <td>0.560311</td>\n",
       "      <td>True</td>\n",
       "      <td>Rottweiler</td>\n",
       "      <td>0.243682</td>\n",
       "      <td>True</td>\n",
       "      <td>Doberman</td>\n",
       "      <td>0.154629</td>\n",
       "      <td>True</td>\n",
       "    </tr>\n",
       "  </tbody>\n",
       "</table>\n",
       "</div>"
      ],
      "text/plain": [
       "             tweet_id                                          jpg_url  \\\n",
       "0  666020888022790149  https://pbs.twimg.com/media/CT4udn0WwAA0aMy.jpg   \n",
       "1  666029285002620928  https://pbs.twimg.com/media/CT42GRgUYAA5iDo.jpg   \n",
       "2  666033412701032449  https://pbs.twimg.com/media/CT4521TWwAEvMyu.jpg   \n",
       "3  666044226329800704  https://pbs.twimg.com/media/CT5Dr8HUEAA-lEu.jpg   \n",
       "4  666049248165822465  https://pbs.twimg.com/media/CT5IQmsXIAAKY4A.jpg   \n",
       "\n",
       "   img_num                      p1   p1_conf  p1_dog                  p2  \\\n",
       "0        1  Welsh_springer_spaniel  0.465074    True              collie   \n",
       "1        1                 redbone  0.506826    True  miniature_pinscher   \n",
       "2        1         German_shepherd  0.596461    True            malinois   \n",
       "3        1     Rhodesian_ridgeback  0.408143    True             redbone   \n",
       "4        1      miniature_pinscher  0.560311    True          Rottweiler   \n",
       "\n",
       "    p2_conf  p2_dog                   p3   p3_conf  p3_dog  \n",
       "0  0.156665    True    Shetland_sheepdog  0.061428    True  \n",
       "1  0.074192    True  Rhodesian_ridgeback  0.072010    True  \n",
       "2  0.138584    True           bloodhound  0.116197    True  \n",
       "3  0.360687    True   miniature_pinscher  0.222752    True  \n",
       "4  0.243682    True             Doberman  0.154629    True  "
      ]
     },
     "execution_count": 3,
     "metadata": {},
     "output_type": "execute_result"
    }
   ],
   "source": [
    "#load in the image_predictions data\n",
    "image_predictions = pd.read_csv('image-predictions.tsv', sep = '\\t')\n",
    "image_predictions.head()"
   ]
  },
  {
   "cell_type": "code",
   "execution_count": 4,
   "metadata": {},
   "outputs": [],
   "source": [
    "#load in the additional data(tweet_json.txt)\n",
    "#create an empty list to save variables in\n",
    "df_list= []\n",
    "#open the data and read line by line\n",
    "with open('tweet-json.txt', 'r') as add_data:\n",
    "    for each_line in add_data:\n",
    "        line = json.loads(each_line)\n",
    "        tweet_id = line['id']\n",
    "        retweet_count = line['retweet_count']\n",
    "        favorite_count = line['favorite_count']\n",
    "#append the variables to the empty list earlier created using dict\n",
    "        df_list.append({'tweet_id': tweet_id, 'retweet_count': retweet_count, 'favorite_count': favorite_count})\n",
    "#convert to DataFrame\n",
    "df_tweets = pd.DataFrame(df_list, columns= ['tweet_id', 'retweet_count', 'favorite_count'])"
   ]
  },
  {
   "cell_type": "code",
   "execution_count": 5,
   "metadata": {},
   "outputs": [
    {
     "data": {
      "text/html": [
       "<div>\n",
       "<style scoped>\n",
       "    .dataframe tbody tr th:only-of-type {\n",
       "        vertical-align: middle;\n",
       "    }\n",
       "\n",
       "    .dataframe tbody tr th {\n",
       "        vertical-align: top;\n",
       "    }\n",
       "\n",
       "    .dataframe thead th {\n",
       "        text-align: right;\n",
       "    }\n",
       "</style>\n",
       "<table border=\"1\" class=\"dataframe\">\n",
       "  <thead>\n",
       "    <tr style=\"text-align: right;\">\n",
       "      <th></th>\n",
       "      <th>tweet_id</th>\n",
       "      <th>retweet_count</th>\n",
       "      <th>favorite_count</th>\n",
       "    </tr>\n",
       "  </thead>\n",
       "  <tbody>\n",
       "    <tr>\n",
       "      <th>0</th>\n",
       "      <td>892420643555336193</td>\n",
       "      <td>8853</td>\n",
       "      <td>39467</td>\n",
       "    </tr>\n",
       "    <tr>\n",
       "      <th>1</th>\n",
       "      <td>892177421306343426</td>\n",
       "      <td>6514</td>\n",
       "      <td>33819</td>\n",
       "    </tr>\n",
       "    <tr>\n",
       "      <th>2</th>\n",
       "      <td>891815181378084864</td>\n",
       "      <td>4328</td>\n",
       "      <td>25461</td>\n",
       "    </tr>\n",
       "    <tr>\n",
       "      <th>3</th>\n",
       "      <td>891689557279858688</td>\n",
       "      <td>8964</td>\n",
       "      <td>42908</td>\n",
       "    </tr>\n",
       "    <tr>\n",
       "      <th>4</th>\n",
       "      <td>891327558926688256</td>\n",
       "      <td>9774</td>\n",
       "      <td>41048</td>\n",
       "    </tr>\n",
       "  </tbody>\n",
       "</table>\n",
       "</div>"
      ],
      "text/plain": [
       "             tweet_id  retweet_count  favorite_count\n",
       "0  892420643555336193           8853           39467\n",
       "1  892177421306343426           6514           33819\n",
       "2  891815181378084864           4328           25461\n",
       "3  891689557279858688           8964           42908\n",
       "4  891327558926688256           9774           41048"
      ]
     },
     "execution_count": 5,
     "metadata": {},
     "output_type": "execute_result"
    }
   ],
   "source": [
    "df_tweets.head()"
   ]
  },
  {
   "cell_type": "markdown",
   "metadata": {
    "extensions": {
     "jupyter_dashboards": {
      "version": 1,
      "views": {
       "grid_default": {
        "col": 4,
        "height": 4,
        "hidden": false,
        "row": 28,
        "width": 4
       },
       "report_default": {
        "hidden": false
       }
      }
     }
    }
   },
   "source": [
    "## Assessing Data\n",
    "In this section, the data would be assessed and issues detected both visually and programmatically would be documented for later cleaning.\n",
    "The detected issues would be grouped according to quality and tidiness for easy cleaning."
   ]
  },
  {
   "cell_type": "code",
   "execution_count": 6,
   "metadata": {},
   "outputs": [
    {
     "name": "stdout",
     "output_type": "stream",
     "text": [
      "<class 'pandas.core.frame.DataFrame'>\n",
      "RangeIndex: 2356 entries, 0 to 2355\n",
      "Data columns (total 17 columns):\n",
      " #   Column                      Non-Null Count  Dtype  \n",
      "---  ------                      --------------  -----  \n",
      " 0   tweet_id                    2356 non-null   int64  \n",
      " 1   in_reply_to_status_id       78 non-null     float64\n",
      " 2   in_reply_to_user_id         78 non-null     float64\n",
      " 3   timestamp                   2356 non-null   object \n",
      " 4   source                      2356 non-null   object \n",
      " 5   text                        2356 non-null   object \n",
      " 6   retweeted_status_id         181 non-null    float64\n",
      " 7   retweeted_status_user_id    181 non-null    float64\n",
      " 8   retweeted_status_timestamp  181 non-null    object \n",
      " 9   expanded_urls               2297 non-null   object \n",
      " 10  rating_numerator            2356 non-null   int64  \n",
      " 11  rating_denominator          2356 non-null   int64  \n",
      " 12  name                        2356 non-null   object \n",
      " 13  doggo                       2356 non-null   object \n",
      " 14  floofer                     2356 non-null   object \n",
      " 15  pupper                      2356 non-null   object \n",
      " 16  puppo                       2356 non-null   object \n",
      "dtypes: float64(4), int64(3), object(10)\n",
      "memory usage: 313.0+ KB\n"
     ]
    }
   ],
   "source": [
    "twitter_archive.info()"
   ]
  },
  {
   "cell_type": "code",
   "execution_count": 7,
   "metadata": {},
   "outputs": [
    {
     "data": {
      "text/html": [
       "<div>\n",
       "<style scoped>\n",
       "    .dataframe tbody tr th:only-of-type {\n",
       "        vertical-align: middle;\n",
       "    }\n",
       "\n",
       "    .dataframe tbody tr th {\n",
       "        vertical-align: top;\n",
       "    }\n",
       "\n",
       "    .dataframe thead th {\n",
       "        text-align: right;\n",
       "    }\n",
       "</style>\n",
       "<table border=\"1\" class=\"dataframe\">\n",
       "  <thead>\n",
       "    <tr style=\"text-align: right;\">\n",
       "      <th></th>\n",
       "      <th>tweet_id</th>\n",
       "      <th>in_reply_to_status_id</th>\n",
       "      <th>in_reply_to_user_id</th>\n",
       "      <th>timestamp</th>\n",
       "      <th>source</th>\n",
       "      <th>text</th>\n",
       "      <th>retweeted_status_id</th>\n",
       "      <th>retweeted_status_user_id</th>\n",
       "      <th>retweeted_status_timestamp</th>\n",
       "      <th>expanded_urls</th>\n",
       "      <th>rating_numerator</th>\n",
       "      <th>rating_denominator</th>\n",
       "      <th>name</th>\n",
       "      <th>doggo</th>\n",
       "      <th>floofer</th>\n",
       "      <th>pupper</th>\n",
       "      <th>puppo</th>\n",
       "    </tr>\n",
       "  </thead>\n",
       "  <tbody>\n",
       "    <tr>\n",
       "      <th>30</th>\n",
       "      <td>886267009285017600</td>\n",
       "      <td>8.862664e+17</td>\n",
       "      <td>2.281182e+09</td>\n",
       "      <td>2017-07-15 16:51:35 +0000</td>\n",
       "      <td>&lt;a href=\"http://twitter.com/download/iphone\" r...</td>\n",
       "      <td>@NonWhiteHat @MayhewMayhem omg hello tanner yo...</td>\n",
       "      <td>NaN</td>\n",
       "      <td>NaN</td>\n",
       "      <td>NaN</td>\n",
       "      <td>NaN</td>\n",
       "      <td>12</td>\n",
       "      <td>10</td>\n",
       "      <td>None</td>\n",
       "      <td>None</td>\n",
       "      <td>None</td>\n",
       "      <td>None</td>\n",
       "      <td>None</td>\n",
       "    </tr>\n",
       "    <tr>\n",
       "      <th>55</th>\n",
       "      <td>881633300179243008</td>\n",
       "      <td>8.816070e+17</td>\n",
       "      <td>4.738443e+07</td>\n",
       "      <td>2017-07-02 21:58:53 +0000</td>\n",
       "      <td>&lt;a href=\"http://twitter.com/download/iphone\" r...</td>\n",
       "      <td>@roushfenway These are good dogs but 17/10 is ...</td>\n",
       "      <td>NaN</td>\n",
       "      <td>NaN</td>\n",
       "      <td>NaN</td>\n",
       "      <td>NaN</td>\n",
       "      <td>17</td>\n",
       "      <td>10</td>\n",
       "      <td>None</td>\n",
       "      <td>None</td>\n",
       "      <td>None</td>\n",
       "      <td>None</td>\n",
       "      <td>None</td>\n",
       "    </tr>\n",
       "    <tr>\n",
       "      <th>64</th>\n",
       "      <td>879674319642796034</td>\n",
       "      <td>8.795538e+17</td>\n",
       "      <td>3.105441e+09</td>\n",
       "      <td>2017-06-27 12:14:36 +0000</td>\n",
       "      <td>&lt;a href=\"http://twitter.com/download/iphone\" r...</td>\n",
       "      <td>@RealKentMurphy 14/10 confirmed</td>\n",
       "      <td>NaN</td>\n",
       "      <td>NaN</td>\n",
       "      <td>NaN</td>\n",
       "      <td>NaN</td>\n",
       "      <td>14</td>\n",
       "      <td>10</td>\n",
       "      <td>None</td>\n",
       "      <td>None</td>\n",
       "      <td>None</td>\n",
       "      <td>None</td>\n",
       "      <td>None</td>\n",
       "    </tr>\n",
       "    <tr>\n",
       "      <th>113</th>\n",
       "      <td>870726314365509632</td>\n",
       "      <td>8.707262e+17</td>\n",
       "      <td>1.648776e+07</td>\n",
       "      <td>2017-06-02 19:38:25 +0000</td>\n",
       "      <td>&lt;a href=\"http://twitter.com/download/iphone\" r...</td>\n",
       "      <td>@ComplicitOwl @ShopWeRateDogs &amp;gt;10/10 is res...</td>\n",
       "      <td>NaN</td>\n",
       "      <td>NaN</td>\n",
       "      <td>NaN</td>\n",
       "      <td>NaN</td>\n",
       "      <td>10</td>\n",
       "      <td>10</td>\n",
       "      <td>None</td>\n",
       "      <td>None</td>\n",
       "      <td>None</td>\n",
       "      <td>None</td>\n",
       "      <td>None</td>\n",
       "    </tr>\n",
       "    <tr>\n",
       "      <th>148</th>\n",
       "      <td>863427515083354112</td>\n",
       "      <td>8.634256e+17</td>\n",
       "      <td>7.759620e+07</td>\n",
       "      <td>2017-05-13 16:15:35 +0000</td>\n",
       "      <td>&lt;a href=\"http://twitter.com/download/iphone\" r...</td>\n",
       "      <td>@Jack_Septic_Eye I'd need a few more pics to p...</td>\n",
       "      <td>NaN</td>\n",
       "      <td>NaN</td>\n",
       "      <td>NaN</td>\n",
       "      <td>NaN</td>\n",
       "      <td>12</td>\n",
       "      <td>10</td>\n",
       "      <td>None</td>\n",
       "      <td>None</td>\n",
       "      <td>None</td>\n",
       "      <td>None</td>\n",
       "      <td>None</td>\n",
       "    </tr>\n",
       "    <tr>\n",
       "      <th>179</th>\n",
       "      <td>857214891891077121</td>\n",
       "      <td>8.571567e+17</td>\n",
       "      <td>1.806710e+08</td>\n",
       "      <td>2017-04-26 12:48:51 +0000</td>\n",
       "      <td>&lt;a href=\"http://twitter.com/download/iphone\" r...</td>\n",
       "      <td>@Marc_IRL pixelated af 12/10</td>\n",
       "      <td>NaN</td>\n",
       "      <td>NaN</td>\n",
       "      <td>NaN</td>\n",
       "      <td>NaN</td>\n",
       "      <td>12</td>\n",
       "      <td>10</td>\n",
       "      <td>None</td>\n",
       "      <td>None</td>\n",
       "      <td>None</td>\n",
       "      <td>None</td>\n",
       "      <td>None</td>\n",
       "    </tr>\n",
       "    <tr>\n",
       "      <th>185</th>\n",
       "      <td>856330835276025856</td>\n",
       "      <td>NaN</td>\n",
       "      <td>NaN</td>\n",
       "      <td>2017-04-24 02:15:55 +0000</td>\n",
       "      <td>&lt;a href=\"http://twitter.com/download/iphone\" r...</td>\n",
       "      <td>RT @Jenna_Marbles: @dog_rates Thanks for ratin...</td>\n",
       "      <td>8.563302e+17</td>\n",
       "      <td>66699013.0</td>\n",
       "      <td>2017-04-24 02:13:14 +0000</td>\n",
       "      <td>NaN</td>\n",
       "      <td>14</td>\n",
       "      <td>10</td>\n",
       "      <td>None</td>\n",
       "      <td>None</td>\n",
       "      <td>None</td>\n",
       "      <td>None</td>\n",
       "      <td>None</td>\n",
       "    </tr>\n",
       "    <tr>\n",
       "      <th>186</th>\n",
       "      <td>856288084350160898</td>\n",
       "      <td>8.562860e+17</td>\n",
       "      <td>2.792810e+08</td>\n",
       "      <td>2017-04-23 23:26:03 +0000</td>\n",
       "      <td>&lt;a href=\"http://twitter.com/download/iphone\" r...</td>\n",
       "      <td>@xianmcguire @Jenna_Marbles Kardashians wouldn...</td>\n",
       "      <td>NaN</td>\n",
       "      <td>NaN</td>\n",
       "      <td>NaN</td>\n",
       "      <td>NaN</td>\n",
       "      <td>14</td>\n",
       "      <td>10</td>\n",
       "      <td>None</td>\n",
       "      <td>None</td>\n",
       "      <td>None</td>\n",
       "      <td>None</td>\n",
       "      <td>None</td>\n",
       "    </tr>\n",
       "    <tr>\n",
       "      <th>188</th>\n",
       "      <td>855862651834028034</td>\n",
       "      <td>8.558616e+17</td>\n",
       "      <td>1.943518e+08</td>\n",
       "      <td>2017-04-22 19:15:32 +0000</td>\n",
       "      <td>&lt;a href=\"http://twitter.com/download/iphone\" r...</td>\n",
       "      <td>@dhmontgomery We also gave snoop dogg a 420/10...</td>\n",
       "      <td>NaN</td>\n",
       "      <td>NaN</td>\n",
       "      <td>NaN</td>\n",
       "      <td>NaN</td>\n",
       "      <td>420</td>\n",
       "      <td>10</td>\n",
       "      <td>None</td>\n",
       "      <td>None</td>\n",
       "      <td>None</td>\n",
       "      <td>None</td>\n",
       "      <td>None</td>\n",
       "    </tr>\n",
       "    <tr>\n",
       "      <th>189</th>\n",
       "      <td>855860136149123072</td>\n",
       "      <td>8.558585e+17</td>\n",
       "      <td>1.361572e+07</td>\n",
       "      <td>2017-04-22 19:05:32 +0000</td>\n",
       "      <td>&lt;a href=\"http://twitter.com/download/iphone\" r...</td>\n",
       "      <td>@s8n You tried very hard to portray this good ...</td>\n",
       "      <td>NaN</td>\n",
       "      <td>NaN</td>\n",
       "      <td>NaN</td>\n",
       "      <td>NaN</td>\n",
       "      <td>666</td>\n",
       "      <td>10</td>\n",
       "      <td>None</td>\n",
       "      <td>None</td>\n",
       "      <td>None</td>\n",
       "      <td>None</td>\n",
       "      <td>None</td>\n",
       "    </tr>\n",
       "    <tr>\n",
       "      <th>218</th>\n",
       "      <td>850333567704068097</td>\n",
       "      <td>8.503288e+17</td>\n",
       "      <td>2.195506e+07</td>\n",
       "      <td>2017-04-07 13:04:55 +0000</td>\n",
       "      <td>&lt;a href=\"http://twitter.com/download/iphone\" r...</td>\n",
       "      <td>@markhoppus MARK THAT DOG HAS SEEN AND EXPERIE...</td>\n",
       "      <td>NaN</td>\n",
       "      <td>NaN</td>\n",
       "      <td>NaN</td>\n",
       "      <td>NaN</td>\n",
       "      <td>13</td>\n",
       "      <td>10</td>\n",
       "      <td>None</td>\n",
       "      <td>None</td>\n",
       "      <td>None</td>\n",
       "      <td>None</td>\n",
       "      <td>None</td>\n",
       "    </tr>\n",
       "    <tr>\n",
       "      <th>228</th>\n",
       "      <td>848213670039564288</td>\n",
       "      <td>8.482121e+17</td>\n",
       "      <td>4.196984e+09</td>\n",
       "      <td>2017-04-01 16:41:12 +0000</td>\n",
       "      <td>&lt;a href=\"http://twitter.com/download/iphone\" r...</td>\n",
       "      <td>Jerry just apuppologized to me. He said there ...</td>\n",
       "      <td>NaN</td>\n",
       "      <td>NaN</td>\n",
       "      <td>NaN</td>\n",
       "      <td>NaN</td>\n",
       "      <td>11</td>\n",
       "      <td>10</td>\n",
       "      <td>None</td>\n",
       "      <td>None</td>\n",
       "      <td>None</td>\n",
       "      <td>None</td>\n",
       "      <td>None</td>\n",
       "    </tr>\n",
       "    <tr>\n",
       "      <th>234</th>\n",
       "      <td>847617282490613760</td>\n",
       "      <td>8.476062e+17</td>\n",
       "      <td>4.196984e+09</td>\n",
       "      <td>2017-03-31 01:11:22 +0000</td>\n",
       "      <td>&lt;a href=\"http://twitter.com/download/iphone\" r...</td>\n",
       "      <td>.@breaannanicolee PUPDATE: Cannon has a heart ...</td>\n",
       "      <td>NaN</td>\n",
       "      <td>NaN</td>\n",
       "      <td>NaN</td>\n",
       "      <td>NaN</td>\n",
       "      <td>13</td>\n",
       "      <td>10</td>\n",
       "      <td>None</td>\n",
       "      <td>None</td>\n",
       "      <td>None</td>\n",
       "      <td>None</td>\n",
       "      <td>None</td>\n",
       "    </tr>\n",
       "    <tr>\n",
       "      <th>274</th>\n",
       "      <td>840698636975636481</td>\n",
       "      <td>8.406983e+17</td>\n",
       "      <td>8.405479e+17</td>\n",
       "      <td>2017-03-11 22:59:09 +0000</td>\n",
       "      <td>&lt;a href=\"http://twitter.com/download/iphone\" r...</td>\n",
       "      <td>@0_kelvin_0 &amp;gt;10/10 is reserved for puppos s...</td>\n",
       "      <td>NaN</td>\n",
       "      <td>NaN</td>\n",
       "      <td>NaN</td>\n",
       "      <td>NaN</td>\n",
       "      <td>10</td>\n",
       "      <td>10</td>\n",
       "      <td>None</td>\n",
       "      <td>None</td>\n",
       "      <td>None</td>\n",
       "      <td>None</td>\n",
       "      <td>None</td>\n",
       "    </tr>\n",
       "    <tr>\n",
       "      <th>290</th>\n",
       "      <td>838150277551247360</td>\n",
       "      <td>8.381455e+17</td>\n",
       "      <td>2.195506e+07</td>\n",
       "      <td>2017-03-04 22:12:52 +0000</td>\n",
       "      <td>&lt;a href=\"http://twitter.com/download/iphone\" r...</td>\n",
       "      <td>@markhoppus 182/10</td>\n",
       "      <td>NaN</td>\n",
       "      <td>NaN</td>\n",
       "      <td>NaN</td>\n",
       "      <td>NaN</td>\n",
       "      <td>182</td>\n",
       "      <td>10</td>\n",
       "      <td>None</td>\n",
       "      <td>None</td>\n",
       "      <td>None</td>\n",
       "      <td>None</td>\n",
       "      <td>None</td>\n",
       "    </tr>\n",
       "    <tr>\n",
       "      <th>291</th>\n",
       "      <td>838085839343206401</td>\n",
       "      <td>8.380855e+17</td>\n",
       "      <td>2.894131e+09</td>\n",
       "      <td>2017-03-04 17:56:49 +0000</td>\n",
       "      <td>&lt;a href=\"http://twitter.com/download/iphone\" r...</td>\n",
       "      <td>@bragg6of8 @Andy_Pace_ we are still looking fo...</td>\n",
       "      <td>NaN</td>\n",
       "      <td>NaN</td>\n",
       "      <td>NaN</td>\n",
       "      <td>NaN</td>\n",
       "      <td>15</td>\n",
       "      <td>10</td>\n",
       "      <td>None</td>\n",
       "      <td>None</td>\n",
       "      <td>None</td>\n",
       "      <td>None</td>\n",
       "      <td>None</td>\n",
       "    </tr>\n",
       "    <tr>\n",
       "      <th>313</th>\n",
       "      <td>835246439529840640</td>\n",
       "      <td>8.352460e+17</td>\n",
       "      <td>2.625958e+07</td>\n",
       "      <td>2017-02-24 21:54:03 +0000</td>\n",
       "      <td>&lt;a href=\"http://twitter.com/download/iphone\" r...</td>\n",
       "      <td>@jonnysun @Lin_Manuel ok jomny I know you're e...</td>\n",
       "      <td>NaN</td>\n",
       "      <td>NaN</td>\n",
       "      <td>NaN</td>\n",
       "      <td>NaN</td>\n",
       "      <td>960</td>\n",
       "      <td>0</td>\n",
       "      <td>None</td>\n",
       "      <td>None</td>\n",
       "      <td>None</td>\n",
       "      <td>None</td>\n",
       "      <td>None</td>\n",
       "    </tr>\n",
       "    <tr>\n",
       "      <th>342</th>\n",
       "      <td>832088576586297345</td>\n",
       "      <td>8.320875e+17</td>\n",
       "      <td>3.058208e+07</td>\n",
       "      <td>2017-02-16 04:45:50 +0000</td>\n",
       "      <td>&lt;a href=\"http://twitter.com/download/iphone\" r...</td>\n",
       "      <td>@docmisterio account started on 11/15/15</td>\n",
       "      <td>NaN</td>\n",
       "      <td>NaN</td>\n",
       "      <td>NaN</td>\n",
       "      <td>NaN</td>\n",
       "      <td>11</td>\n",
       "      <td>15</td>\n",
       "      <td>None</td>\n",
       "      <td>None</td>\n",
       "      <td>None</td>\n",
       "      <td>None</td>\n",
       "      <td>None</td>\n",
       "    </tr>\n",
       "    <tr>\n",
       "      <th>346</th>\n",
       "      <td>831926988323639298</td>\n",
       "      <td>8.319030e+17</td>\n",
       "      <td>2.068372e+07</td>\n",
       "      <td>2017-02-15 18:03:45 +0000</td>\n",
       "      <td>&lt;a href=\"http://twitter.com/download/iphone\" r...</td>\n",
       "      <td>@UNC can confirm 12/10</td>\n",
       "      <td>NaN</td>\n",
       "      <td>NaN</td>\n",
       "      <td>NaN</td>\n",
       "      <td>NaN</td>\n",
       "      <td>12</td>\n",
       "      <td>10</td>\n",
       "      <td>None</td>\n",
       "      <td>None</td>\n",
       "      <td>None</td>\n",
       "      <td>None</td>\n",
       "      <td>None</td>\n",
       "    </tr>\n",
       "    <tr>\n",
       "      <th>375</th>\n",
       "      <td>828361771580813312</td>\n",
       "      <td>NaN</td>\n",
       "      <td>NaN</td>\n",
       "      <td>2017-02-05 21:56:51 +0000</td>\n",
       "      <td>&lt;a href=\"http://twitter.com\" rel=\"nofollow\"&gt;Tw...</td>\n",
       "      <td>Beebop and Doobert should start a band 12/10 w...</td>\n",
       "      <td>NaN</td>\n",
       "      <td>NaN</td>\n",
       "      <td>NaN</td>\n",
       "      <td>NaN</td>\n",
       "      <td>12</td>\n",
       "      <td>10</td>\n",
       "      <td>None</td>\n",
       "      <td>None</td>\n",
       "      <td>None</td>\n",
       "      <td>None</td>\n",
       "      <td>None</td>\n",
       "    </tr>\n",
       "    <tr>\n",
       "      <th>387</th>\n",
       "      <td>826598799820865537</td>\n",
       "      <td>8.265984e+17</td>\n",
       "      <td>4.196984e+09</td>\n",
       "      <td>2017-02-01 01:11:25 +0000</td>\n",
       "      <td>&lt;a href=\"http://twitter.com/download/iphone\" r...</td>\n",
       "      <td>I was going to do 007/10, but the joke wasn't ...</td>\n",
       "      <td>NaN</td>\n",
       "      <td>NaN</td>\n",
       "      <td>NaN</td>\n",
       "      <td>NaN</td>\n",
       "      <td>7</td>\n",
       "      <td>10</td>\n",
       "      <td>None</td>\n",
       "      <td>None</td>\n",
       "      <td>None</td>\n",
       "      <td>None</td>\n",
       "      <td>None</td>\n",
       "    </tr>\n",
       "    <tr>\n",
       "      <th>409</th>\n",
       "      <td>823333489516937216</td>\n",
       "      <td>8.233264e+17</td>\n",
       "      <td>1.582854e+09</td>\n",
       "      <td>2017-01-23 00:56:15 +0000</td>\n",
       "      <td>&lt;a href=\"http://twitter.com/download/iphone\" r...</td>\n",
       "      <td>@HistoryInPics 13/10</td>\n",
       "      <td>NaN</td>\n",
       "      <td>NaN</td>\n",
       "      <td>NaN</td>\n",
       "      <td>NaN</td>\n",
       "      <td>13</td>\n",
       "      <td>10</td>\n",
       "      <td>None</td>\n",
       "      <td>None</td>\n",
       "      <td>None</td>\n",
       "      <td>None</td>\n",
       "      <td>None</td>\n",
       "    </tr>\n",
       "    <tr>\n",
       "      <th>427</th>\n",
       "      <td>821153421864615936</td>\n",
       "      <td>8.211526e+17</td>\n",
       "      <td>1.132119e+08</td>\n",
       "      <td>2017-01-17 00:33:26 +0000</td>\n",
       "      <td>&lt;a href=\"http://twitter.com/download/iphone\" r...</td>\n",
       "      <td>@imgur for a polar bear tho I'd say 13/10 is a...</td>\n",
       "      <td>NaN</td>\n",
       "      <td>NaN</td>\n",
       "      <td>NaN</td>\n",
       "      <td>NaN</td>\n",
       "      <td>13</td>\n",
       "      <td>10</td>\n",
       "      <td>None</td>\n",
       "      <td>None</td>\n",
       "      <td>None</td>\n",
       "      <td>None</td>\n",
       "      <td>None</td>\n",
       "    </tr>\n",
       "    <tr>\n",
       "      <th>498</th>\n",
       "      <td>813130366689148928</td>\n",
       "      <td>8.131273e+17</td>\n",
       "      <td>4.196984e+09</td>\n",
       "      <td>2016-12-25 21:12:41 +0000</td>\n",
       "      <td>&lt;a href=\"http://twitter.com/download/iphone\" r...</td>\n",
       "      <td>I've been informed by multiple sources that th...</td>\n",
       "      <td>NaN</td>\n",
       "      <td>NaN</td>\n",
       "      <td>NaN</td>\n",
       "      <td>NaN</td>\n",
       "      <td>12</td>\n",
       "      <td>10</td>\n",
       "      <td>None</td>\n",
       "      <td>None</td>\n",
       "      <td>None</td>\n",
       "      <td>None</td>\n",
       "      <td>None</td>\n",
       "    </tr>\n",
       "    <tr>\n",
       "      <th>513</th>\n",
       "      <td>811647686436880384</td>\n",
       "      <td>8.116272e+17</td>\n",
       "      <td>4.196984e+09</td>\n",
       "      <td>2016-12-21 19:01:02 +0000</td>\n",
       "      <td>&lt;a href=\"http://twitter.com/download/iphone\" r...</td>\n",
       "      <td>PUPDATE: I've been informed that Augie was act...</td>\n",
       "      <td>NaN</td>\n",
       "      <td>NaN</td>\n",
       "      <td>NaN</td>\n",
       "      <td>NaN</td>\n",
       "      <td>11</td>\n",
       "      <td>10</td>\n",
       "      <td>None</td>\n",
       "      <td>None</td>\n",
       "      <td>None</td>\n",
       "      <td>None</td>\n",
       "      <td>None</td>\n",
       "    </tr>\n",
       "    <tr>\n",
       "      <th>570</th>\n",
       "      <td>801854953262350336</td>\n",
       "      <td>8.018543e+17</td>\n",
       "      <td>1.185634e+07</td>\n",
       "      <td>2016-11-24 18:28:13 +0000</td>\n",
       "      <td>&lt;a href=\"http://twitter.com/download/iphone\" r...</td>\n",
       "      <td>.@NBCSports OMG THE TINY HAT I'M GOING TO HAVE...</td>\n",
       "      <td>NaN</td>\n",
       "      <td>NaN</td>\n",
       "      <td>NaN</td>\n",
       "      <td>NaN</td>\n",
       "      <td>11</td>\n",
       "      <td>10</td>\n",
       "      <td>None</td>\n",
       "      <td>None</td>\n",
       "      <td>None</td>\n",
       "      <td>None</td>\n",
       "      <td>None</td>\n",
       "    </tr>\n",
       "    <tr>\n",
       "      <th>576</th>\n",
       "      <td>800859414831898624</td>\n",
       "      <td>8.008580e+17</td>\n",
       "      <td>2.918590e+08</td>\n",
       "      <td>2016-11-22 00:32:18 +0000</td>\n",
       "      <td>&lt;a href=\"http://twitter.com/download/iphone\" r...</td>\n",
       "      <td>@SkyWilliams doggo simply protecting you from ...</td>\n",
       "      <td>NaN</td>\n",
       "      <td>NaN</td>\n",
       "      <td>NaN</td>\n",
       "      <td>NaN</td>\n",
       "      <td>11</td>\n",
       "      <td>10</td>\n",
       "      <td>None</td>\n",
       "      <td>doggo</td>\n",
       "      <td>None</td>\n",
       "      <td>None</td>\n",
       "      <td>None</td>\n",
       "    </tr>\n",
       "    <tr>\n",
       "      <th>611</th>\n",
       "      <td>797165961484890113</td>\n",
       "      <td>7.971238e+17</td>\n",
       "      <td>2.916630e+07</td>\n",
       "      <td>2016-11-11 19:55:50 +0000</td>\n",
       "      <td>&lt;a href=\"http://twitter.com/download/iphone\" r...</td>\n",
       "      <td>@JODYHiGHROLLER it may be an 11/10 but what do...</td>\n",
       "      <td>NaN</td>\n",
       "      <td>NaN</td>\n",
       "      <td>NaN</td>\n",
       "      <td>NaN</td>\n",
       "      <td>11</td>\n",
       "      <td>10</td>\n",
       "      <td>None</td>\n",
       "      <td>None</td>\n",
       "      <td>None</td>\n",
       "      <td>None</td>\n",
       "      <td>None</td>\n",
       "    </tr>\n",
       "    <tr>\n",
       "      <th>701</th>\n",
       "      <td>786051337297522688</td>\n",
       "      <td>7.727430e+17</td>\n",
       "      <td>7.305050e+17</td>\n",
       "      <td>2016-10-12 03:50:17 +0000</td>\n",
       "      <td>&lt;a href=\"http://twitter.com/download/iphone\" r...</td>\n",
       "      <td>13/10 for breakdancing puppo @shibbnbot</td>\n",
       "      <td>NaN</td>\n",
       "      <td>NaN</td>\n",
       "      <td>NaN</td>\n",
       "      <td>NaN</td>\n",
       "      <td>13</td>\n",
       "      <td>10</td>\n",
       "      <td>None</td>\n",
       "      <td>None</td>\n",
       "      <td>None</td>\n",
       "      <td>None</td>\n",
       "      <td>puppo</td>\n",
       "    </tr>\n",
       "    <tr>\n",
       "      <th>707</th>\n",
       "      <td>785515384317313025</td>\n",
       "      <td>NaN</td>\n",
       "      <td>NaN</td>\n",
       "      <td>2016-10-10 16:20:36 +0000</td>\n",
       "      <td>&lt;a href=\"http://twitter.com/download/iphone\" r...</td>\n",
       "      <td>Today, 10/10, should be National Dog Rates Day</td>\n",
       "      <td>NaN</td>\n",
       "      <td>NaN</td>\n",
       "      <td>NaN</td>\n",
       "      <td>NaN</td>\n",
       "      <td>10</td>\n",
       "      <td>10</td>\n",
       "      <td>None</td>\n",
       "      <td>None</td>\n",
       "      <td>None</td>\n",
       "      <td>None</td>\n",
       "      <td>None</td>\n",
       "    </tr>\n",
       "    <tr>\n",
       "      <th>843</th>\n",
       "      <td>766714921925144576</td>\n",
       "      <td>7.667118e+17</td>\n",
       "      <td>4.196984e+09</td>\n",
       "      <td>2016-08-19 19:14:16 +0000</td>\n",
       "      <td>&lt;a href=\"http://twitter.com/download/iphone\" r...</td>\n",
       "      <td>His name is Charley and he already has a new s...</td>\n",
       "      <td>NaN</td>\n",
       "      <td>NaN</td>\n",
       "      <td>NaN</td>\n",
       "      <td>NaN</td>\n",
       "      <td>13</td>\n",
       "      <td>10</td>\n",
       "      <td>None</td>\n",
       "      <td>None</td>\n",
       "      <td>None</td>\n",
       "      <td>None</td>\n",
       "      <td>None</td>\n",
       "    </tr>\n",
       "    <tr>\n",
       "      <th>857</th>\n",
       "      <td>763956972077010945</td>\n",
       "      <td>7.638652e+17</td>\n",
       "      <td>1.584641e+07</td>\n",
       "      <td>2016-08-12 04:35:10 +0000</td>\n",
       "      <td>&lt;a href=\"http://twitter.com/download/iphone\" r...</td>\n",
       "      <td>@TheEllenShow I'm not sure if you know this bu...</td>\n",
       "      <td>NaN</td>\n",
       "      <td>NaN</td>\n",
       "      <td>NaN</td>\n",
       "      <td>NaN</td>\n",
       "      <td>12</td>\n",
       "      <td>10</td>\n",
       "      <td>None</td>\n",
       "      <td>doggo</td>\n",
       "      <td>None</td>\n",
       "      <td>None</td>\n",
       "      <td>None</td>\n",
       "    </tr>\n",
       "    <tr>\n",
       "      <th>967</th>\n",
       "      <td>750381685133418496</td>\n",
       "      <td>7.501805e+17</td>\n",
       "      <td>4.717297e+09</td>\n",
       "      <td>2016-07-05 17:31:49 +0000</td>\n",
       "      <td>&lt;a href=\"http://twitter.com/download/iphone\" r...</td>\n",
       "      <td>13/10 such a good doggo\\n@spaghemily</td>\n",
       "      <td>NaN</td>\n",
       "      <td>NaN</td>\n",
       "      <td>NaN</td>\n",
       "      <td>NaN</td>\n",
       "      <td>13</td>\n",
       "      <td>10</td>\n",
       "      <td>None</td>\n",
       "      <td>doggo</td>\n",
       "      <td>None</td>\n",
       "      <td>None</td>\n",
       "      <td>None</td>\n",
       "    </tr>\n",
       "    <tr>\n",
       "      <th>1005</th>\n",
       "      <td>747651430853525504</td>\n",
       "      <td>7.476487e+17</td>\n",
       "      <td>4.196984e+09</td>\n",
       "      <td>2016-06-28 04:42:46 +0000</td>\n",
       "      <td>&lt;a href=\"http://twitter.com/download/iphone\" r...</td>\n",
       "      <td>Other pupper asked not to have his identity sh...</td>\n",
       "      <td>NaN</td>\n",
       "      <td>NaN</td>\n",
       "      <td>NaN</td>\n",
       "      <td>NaN</td>\n",
       "      <td>12</td>\n",
       "      <td>10</td>\n",
       "      <td>None</td>\n",
       "      <td>None</td>\n",
       "      <td>None</td>\n",
       "      <td>pupper</td>\n",
       "      <td>None</td>\n",
       "    </tr>\n",
       "    <tr>\n",
       "      <th>1080</th>\n",
       "      <td>738891149612572673</td>\n",
       "      <td>7.384119e+17</td>\n",
       "      <td>3.589728e+08</td>\n",
       "      <td>2016-06-04 00:32:32 +0000</td>\n",
       "      <td>&lt;a href=\"http://twitter.com/download/iphone\" r...</td>\n",
       "      <td>@mount_alex3 13/10</td>\n",
       "      <td>NaN</td>\n",
       "      <td>NaN</td>\n",
       "      <td>NaN</td>\n",
       "      <td>NaN</td>\n",
       "      <td>13</td>\n",
       "      <td>10</td>\n",
       "      <td>None</td>\n",
       "      <td>None</td>\n",
       "      <td>None</td>\n",
       "      <td>None</td>\n",
       "      <td>None</td>\n",
       "    </tr>\n",
       "    <tr>\n",
       "      <th>1295</th>\n",
       "      <td>707983188426153984</td>\n",
       "      <td>7.079801e+17</td>\n",
       "      <td>2.319108e+09</td>\n",
       "      <td>2016-03-10 17:35:20 +0000</td>\n",
       "      <td>&lt;a href=\"http://twitter.com/download/iphone\" r...</td>\n",
       "      <td>@serial @MrRoles OH MY GOD I listened to all o...</td>\n",
       "      <td>NaN</td>\n",
       "      <td>NaN</td>\n",
       "      <td>NaN</td>\n",
       "      <td>NaN</td>\n",
       "      <td>12</td>\n",
       "      <td>10</td>\n",
       "      <td>None</td>\n",
       "      <td>None</td>\n",
       "      <td>None</td>\n",
       "      <td>None</td>\n",
       "      <td>None</td>\n",
       "    </tr>\n",
       "    <tr>\n",
       "      <th>1345</th>\n",
       "      <td>704491224099647488</td>\n",
       "      <td>7.044857e+17</td>\n",
       "      <td>2.878549e+07</td>\n",
       "      <td>2016-03-01 02:19:31 +0000</td>\n",
       "      <td>&lt;a href=\"http://twitter.com/download/iphone\" r...</td>\n",
       "      <td>13/10 hero af\\n@ABC</td>\n",
       "      <td>NaN</td>\n",
       "      <td>NaN</td>\n",
       "      <td>NaN</td>\n",
       "      <td>NaN</td>\n",
       "      <td>13</td>\n",
       "      <td>10</td>\n",
       "      <td>None</td>\n",
       "      <td>None</td>\n",
       "      <td>None</td>\n",
       "      <td>None</td>\n",
       "      <td>None</td>\n",
       "    </tr>\n",
       "    <tr>\n",
       "      <th>1445</th>\n",
       "      <td>696518437233913856</td>\n",
       "      <td>NaN</td>\n",
       "      <td>NaN</td>\n",
       "      <td>2016-02-08 02:18:30 +0000</td>\n",
       "      <td>&lt;a href=\"http://twitter.com/download/iphone\" r...</td>\n",
       "      <td>Oh my god 10/10 for every little hot dog pupper</td>\n",
       "      <td>NaN</td>\n",
       "      <td>NaN</td>\n",
       "      <td>NaN</td>\n",
       "      <td>NaN</td>\n",
       "      <td>10</td>\n",
       "      <td>10</td>\n",
       "      <td>None</td>\n",
       "      <td>None</td>\n",
       "      <td>None</td>\n",
       "      <td>pupper</td>\n",
       "      <td>None</td>\n",
       "    </tr>\n",
       "    <tr>\n",
       "      <th>1446</th>\n",
       "      <td>696490539101908992</td>\n",
       "      <td>6.964887e+17</td>\n",
       "      <td>4.196984e+09</td>\n",
       "      <td>2016-02-08 00:27:39 +0000</td>\n",
       "      <td>&lt;a href=\"http://twitter.com/download/iphone\" r...</td>\n",
       "      <td>After reading the comments I may have overesti...</td>\n",
       "      <td>NaN</td>\n",
       "      <td>NaN</td>\n",
       "      <td>NaN</td>\n",
       "      <td>NaN</td>\n",
       "      <td>1</td>\n",
       "      <td>10</td>\n",
       "      <td>None</td>\n",
       "      <td>None</td>\n",
       "      <td>None</td>\n",
       "      <td>None</td>\n",
       "      <td>None</td>\n",
       "    </tr>\n",
       "    <tr>\n",
       "      <th>1474</th>\n",
       "      <td>693644216740769793</td>\n",
       "      <td>6.936422e+17</td>\n",
       "      <td>4.196984e+09</td>\n",
       "      <td>2016-01-31 03:57:23 +0000</td>\n",
       "      <td>&lt;a href=\"http://twitter.com/download/iphone\" r...</td>\n",
       "      <td>BREAKING PUPDATE: I've just been notified that...</td>\n",
       "      <td>NaN</td>\n",
       "      <td>NaN</td>\n",
       "      <td>NaN</td>\n",
       "      <td>NaN</td>\n",
       "      <td>10</td>\n",
       "      <td>10</td>\n",
       "      <td>None</td>\n",
       "      <td>None</td>\n",
       "      <td>None</td>\n",
       "      <td>None</td>\n",
       "      <td>None</td>\n",
       "    </tr>\n",
       "    <tr>\n",
       "      <th>1479</th>\n",
       "      <td>693582294167244802</td>\n",
       "      <td>6.935722e+17</td>\n",
       "      <td>1.198989e+09</td>\n",
       "      <td>2016-01-30 23:51:19 +0000</td>\n",
       "      <td>&lt;a href=\"http://twitter.com/download/iphone\" r...</td>\n",
       "      <td>Personally I'd give him an 11/10. Not sure why...</td>\n",
       "      <td>NaN</td>\n",
       "      <td>NaN</td>\n",
       "      <td>NaN</td>\n",
       "      <td>NaN</td>\n",
       "      <td>11</td>\n",
       "      <td>10</td>\n",
       "      <td>None</td>\n",
       "      <td>None</td>\n",
       "      <td>None</td>\n",
       "      <td>None</td>\n",
       "      <td>None</td>\n",
       "    </tr>\n",
       "    <tr>\n",
       "      <th>1497</th>\n",
       "      <td>692423280028966913</td>\n",
       "      <td>6.924173e+17</td>\n",
       "      <td>4.196984e+09</td>\n",
       "      <td>2016-01-27 19:05:49 +0000</td>\n",
       "      <td>&lt;a href=\"http://twitter.com/download/iphone\" r...</td>\n",
       "      <td>PUPDATE: just noticed this dog has some extra ...</td>\n",
       "      <td>NaN</td>\n",
       "      <td>NaN</td>\n",
       "      <td>NaN</td>\n",
       "      <td>NaN</td>\n",
       "      <td>9</td>\n",
       "      <td>10</td>\n",
       "      <td>None</td>\n",
       "      <td>None</td>\n",
       "      <td>None</td>\n",
       "      <td>None</td>\n",
       "      <td>None</td>\n",
       "    </tr>\n",
       "    <tr>\n",
       "      <th>1523</th>\n",
       "      <td>690607260360429569</td>\n",
       "      <td>6.903413e+17</td>\n",
       "      <td>4.670367e+08</td>\n",
       "      <td>2016-01-22 18:49:36 +0000</td>\n",
       "      <td>&lt;a href=\"http://twitter.com/download/iphone\" r...</td>\n",
       "      <td>12/10 @LightningHoltt</td>\n",
       "      <td>NaN</td>\n",
       "      <td>NaN</td>\n",
       "      <td>NaN</td>\n",
       "      <td>NaN</td>\n",
       "      <td>12</td>\n",
       "      <td>10</td>\n",
       "      <td>None</td>\n",
       "      <td>None</td>\n",
       "      <td>None</td>\n",
       "      <td>None</td>\n",
       "      <td>None</td>\n",
       "    </tr>\n",
       "    <tr>\n",
       "      <th>1598</th>\n",
       "      <td>686035780142297088</td>\n",
       "      <td>6.860340e+17</td>\n",
       "      <td>4.196984e+09</td>\n",
       "      <td>2016-01-10 04:04:10 +0000</td>\n",
       "      <td>&lt;a href=\"http://twitter.com/download/iphone\" r...</td>\n",
       "      <td>Yes I do realize a rating of 4/20 would've bee...</td>\n",
       "      <td>NaN</td>\n",
       "      <td>NaN</td>\n",
       "      <td>NaN</td>\n",
       "      <td>NaN</td>\n",
       "      <td>4</td>\n",
       "      <td>20</td>\n",
       "      <td>None</td>\n",
       "      <td>None</td>\n",
       "      <td>None</td>\n",
       "      <td>None</td>\n",
       "      <td>None</td>\n",
       "    </tr>\n",
       "    <tr>\n",
       "      <th>1605</th>\n",
       "      <td>685681090388975616</td>\n",
       "      <td>6.855479e+17</td>\n",
       "      <td>4.196984e+09</td>\n",
       "      <td>2016-01-09 04:34:45 +0000</td>\n",
       "      <td>&lt;a href=\"http://twitter.com/download/iphone\" r...</td>\n",
       "      <td>Jack deserves another round of applause. If yo...</td>\n",
       "      <td>NaN</td>\n",
       "      <td>NaN</td>\n",
       "      <td>NaN</td>\n",
       "      <td>NaN</td>\n",
       "      <td>14</td>\n",
       "      <td>10</td>\n",
       "      <td>None</td>\n",
       "      <td>None</td>\n",
       "      <td>None</td>\n",
       "      <td>None</td>\n",
       "      <td>None</td>\n",
       "    </tr>\n",
       "    <tr>\n",
       "      <th>1618</th>\n",
       "      <td>684969860808454144</td>\n",
       "      <td>6.849598e+17</td>\n",
       "      <td>4.196984e+09</td>\n",
       "      <td>2016-01-07 05:28:35 +0000</td>\n",
       "      <td>&lt;a href=\"http://twitter.com/download/iphone\" r...</td>\n",
       "      <td>For those who claim this is a goat, u are wron...</td>\n",
       "      <td>NaN</td>\n",
       "      <td>NaN</td>\n",
       "      <td>NaN</td>\n",
       "      <td>NaN</td>\n",
       "      <td>5</td>\n",
       "      <td>10</td>\n",
       "      <td>None</td>\n",
       "      <td>None</td>\n",
       "      <td>None</td>\n",
       "      <td>None</td>\n",
       "      <td>None</td>\n",
       "    </tr>\n",
       "    <tr>\n",
       "      <th>1663</th>\n",
       "      <td>682808988178739200</td>\n",
       "      <td>6.827884e+17</td>\n",
       "      <td>4.196984e+09</td>\n",
       "      <td>2016-01-01 06:22:03 +0000</td>\n",
       "      <td>&lt;a href=\"http://twitter.com/download/iphone\" r...</td>\n",
       "      <td>I'm aware that I could've said 20/16, but here...</td>\n",
       "      <td>NaN</td>\n",
       "      <td>NaN</td>\n",
       "      <td>NaN</td>\n",
       "      <td>NaN</td>\n",
       "      <td>20</td>\n",
       "      <td>16</td>\n",
       "      <td>None</td>\n",
       "      <td>None</td>\n",
       "      <td>None</td>\n",
       "      <td>None</td>\n",
       "      <td>None</td>\n",
       "    </tr>\n",
       "    <tr>\n",
       "      <th>1689</th>\n",
       "      <td>681340665377193984</td>\n",
       "      <td>6.813394e+17</td>\n",
       "      <td>4.196984e+09</td>\n",
       "      <td>2015-12-28 05:07:27 +0000</td>\n",
       "      <td>&lt;a href=\"http://twitter.com/download/iphone\" r...</td>\n",
       "      <td>I've been told there's a slight possibility he...</td>\n",
       "      <td>NaN</td>\n",
       "      <td>NaN</td>\n",
       "      <td>NaN</td>\n",
       "      <td>NaN</td>\n",
       "      <td>5</td>\n",
       "      <td>10</td>\n",
       "      <td>None</td>\n",
       "      <td>None</td>\n",
       "      <td>None</td>\n",
       "      <td>None</td>\n",
       "      <td>None</td>\n",
       "    </tr>\n",
       "    <tr>\n",
       "      <th>1774</th>\n",
       "      <td>678023323247357953</td>\n",
       "      <td>6.780211e+17</td>\n",
       "      <td>4.196984e+09</td>\n",
       "      <td>2015-12-19 01:25:31 +0000</td>\n",
       "      <td>&lt;a href=\"http://twitter.com/download/iphone\" r...</td>\n",
       "      <td>After getting lost in Reese's eyes for several...</td>\n",
       "      <td>NaN</td>\n",
       "      <td>NaN</td>\n",
       "      <td>NaN</td>\n",
       "      <td>NaN</td>\n",
       "      <td>13</td>\n",
       "      <td>10</td>\n",
       "      <td>None</td>\n",
       "      <td>None</td>\n",
       "      <td>None</td>\n",
       "      <td>None</td>\n",
       "      <td>None</td>\n",
       "    </tr>\n",
       "    <tr>\n",
       "      <th>1819</th>\n",
       "      <td>676590572941893632</td>\n",
       "      <td>6.765883e+17</td>\n",
       "      <td>4.196984e+09</td>\n",
       "      <td>2015-12-15 02:32:17 +0000</td>\n",
       "      <td>&lt;a href=\"http://twitter.com/download/iphone\" r...</td>\n",
       "      <td>After some outrage from the crowd. Bubbles is ...</td>\n",
       "      <td>NaN</td>\n",
       "      <td>NaN</td>\n",
       "      <td>NaN</td>\n",
       "      <td>NaN</td>\n",
       "      <td>7</td>\n",
       "      <td>10</td>\n",
       "      <td>None</td>\n",
       "      <td>None</td>\n",
       "      <td>None</td>\n",
       "      <td>None</td>\n",
       "      <td>None</td>\n",
       "    </tr>\n",
       "    <tr>\n",
       "      <th>1844</th>\n",
       "      <td>675849018447167488</td>\n",
       "      <td>6.758457e+17</td>\n",
       "      <td>4.196984e+09</td>\n",
       "      <td>2015-12-13 01:25:37 +0000</td>\n",
       "      <td>&lt;a href=\"http://twitter.com/download/iphone\" r...</td>\n",
       "      <td>This dog is being demoted to a 9/10 for not we...</td>\n",
       "      <td>NaN</td>\n",
       "      <td>NaN</td>\n",
       "      <td>NaN</td>\n",
       "      <td>NaN</td>\n",
       "      <td>9</td>\n",
       "      <td>10</td>\n",
       "      <td>None</td>\n",
       "      <td>None</td>\n",
       "      <td>None</td>\n",
       "      <td>None</td>\n",
       "      <td>None</td>\n",
       "    </tr>\n",
       "    <tr>\n",
       "      <th>1895</th>\n",
       "      <td>674742531037511680</td>\n",
       "      <td>6.747400e+17</td>\n",
       "      <td>4.196984e+09</td>\n",
       "      <td>2015-12-10 00:08:50 +0000</td>\n",
       "      <td>&lt;a href=\"http://twitter.com/download/iphone\" r...</td>\n",
       "      <td>Some clarification is required. The dog is sin...</td>\n",
       "      <td>NaN</td>\n",
       "      <td>NaN</td>\n",
       "      <td>NaN</td>\n",
       "      <td>NaN</td>\n",
       "      <td>11</td>\n",
       "      <td>10</td>\n",
       "      <td>None</td>\n",
       "      <td>None</td>\n",
       "      <td>None</td>\n",
       "      <td>None</td>\n",
       "      <td>None</td>\n",
       "    </tr>\n",
       "    <tr>\n",
       "      <th>1905</th>\n",
       "      <td>674606911342424069</td>\n",
       "      <td>6.744689e+17</td>\n",
       "      <td>4.196984e+09</td>\n",
       "      <td>2015-12-09 15:09:55 +0000</td>\n",
       "      <td>&lt;a href=\"http://twitter.com/download/iphone\" r...</td>\n",
       "      <td>The 13/10 also takes into account this impecca...</td>\n",
       "      <td>NaN</td>\n",
       "      <td>NaN</td>\n",
       "      <td>NaN</td>\n",
       "      <td>NaN</td>\n",
       "      <td>13</td>\n",
       "      <td>10</td>\n",
       "      <td>None</td>\n",
       "      <td>None</td>\n",
       "      <td>None</td>\n",
       "      <td>None</td>\n",
       "      <td>None</td>\n",
       "    </tr>\n",
       "    <tr>\n",
       "      <th>1914</th>\n",
       "      <td>674330906434379776</td>\n",
       "      <td>6.658147e+17</td>\n",
       "      <td>1.637468e+07</td>\n",
       "      <td>2015-12-08 20:53:11 +0000</td>\n",
       "      <td>&lt;a href=\"http://twitter.com/download/iphone\" r...</td>\n",
       "      <td>13/10\\n@ABC7</td>\n",
       "      <td>NaN</td>\n",
       "      <td>NaN</td>\n",
       "      <td>NaN</td>\n",
       "      <td>NaN</td>\n",
       "      <td>13</td>\n",
       "      <td>10</td>\n",
       "      <td>None</td>\n",
       "      <td>None</td>\n",
       "      <td>None</td>\n",
       "      <td>None</td>\n",
       "      <td>None</td>\n",
       "    </tr>\n",
       "    <tr>\n",
       "      <th>1940</th>\n",
       "      <td>673716320723169284</td>\n",
       "      <td>6.737159e+17</td>\n",
       "      <td>4.196984e+09</td>\n",
       "      <td>2015-12-07 04:11:02 +0000</td>\n",
       "      <td>&lt;a href=\"http://twitter.com/download/iphone\" r...</td>\n",
       "      <td>The millennials have spoken and we've decided ...</td>\n",
       "      <td>NaN</td>\n",
       "      <td>NaN</td>\n",
       "      <td>NaN</td>\n",
       "      <td>NaN</td>\n",
       "      <td>1</td>\n",
       "      <td>10</td>\n",
       "      <td>None</td>\n",
       "      <td>None</td>\n",
       "      <td>None</td>\n",
       "      <td>None</td>\n",
       "      <td>None</td>\n",
       "    </tr>\n",
       "    <tr>\n",
       "      <th>2038</th>\n",
       "      <td>671550332464455680</td>\n",
       "      <td>6.715449e+17</td>\n",
       "      <td>4.196984e+09</td>\n",
       "      <td>2015-12-01 04:44:10 +0000</td>\n",
       "      <td>&lt;a href=\"http://twitter.com/download/iphone\" r...</td>\n",
       "      <td>After 22 minutes of careful deliberation this ...</td>\n",
       "      <td>NaN</td>\n",
       "      <td>NaN</td>\n",
       "      <td>NaN</td>\n",
       "      <td>NaN</td>\n",
       "      <td>1</td>\n",
       "      <td>10</td>\n",
       "      <td>None</td>\n",
       "      <td>None</td>\n",
       "      <td>None</td>\n",
       "      <td>None</td>\n",
       "      <td>None</td>\n",
       "    </tr>\n",
       "    <tr>\n",
       "      <th>2149</th>\n",
       "      <td>669684865554620416</td>\n",
       "      <td>6.693544e+17</td>\n",
       "      <td>4.196984e+09</td>\n",
       "      <td>2015-11-26 01:11:28 +0000</td>\n",
       "      <td>&lt;a href=\"http://twitter.com/download/iphone\" r...</td>\n",
       "      <td>After countless hours of research and hundreds...</td>\n",
       "      <td>NaN</td>\n",
       "      <td>NaN</td>\n",
       "      <td>NaN</td>\n",
       "      <td>NaN</td>\n",
       "      <td>11</td>\n",
       "      <td>10</td>\n",
       "      <td>None</td>\n",
       "      <td>None</td>\n",
       "      <td>None</td>\n",
       "      <td>None</td>\n",
       "      <td>None</td>\n",
       "    </tr>\n",
       "    <tr>\n",
       "      <th>2189</th>\n",
       "      <td>668967877119254528</td>\n",
       "      <td>6.689207e+17</td>\n",
       "      <td>2.143566e+07</td>\n",
       "      <td>2015-11-24 01:42:25 +0000</td>\n",
       "      <td>&lt;a href=\"http://twitter.com/download/iphone\" r...</td>\n",
       "      <td>12/10 good shit Bubka\\n@wane15</td>\n",
       "      <td>NaN</td>\n",
       "      <td>NaN</td>\n",
       "      <td>NaN</td>\n",
       "      <td>NaN</td>\n",
       "      <td>12</td>\n",
       "      <td>10</td>\n",
       "      <td>None</td>\n",
       "      <td>None</td>\n",
       "      <td>None</td>\n",
       "      <td>None</td>\n",
       "      <td>None</td>\n",
       "    </tr>\n",
       "    <tr>\n",
       "      <th>2298</th>\n",
       "      <td>667070482143944705</td>\n",
       "      <td>6.670655e+17</td>\n",
       "      <td>4.196984e+09</td>\n",
       "      <td>2015-11-18 20:02:51 +0000</td>\n",
       "      <td>&lt;a href=\"http://twitter.com/download/iphone\" r...</td>\n",
       "      <td>After much debate this dog is being upgraded t...</td>\n",
       "      <td>NaN</td>\n",
       "      <td>NaN</td>\n",
       "      <td>NaN</td>\n",
       "      <td>NaN</td>\n",
       "      <td>10</td>\n",
       "      <td>10</td>\n",
       "      <td>None</td>\n",
       "      <td>None</td>\n",
       "      <td>None</td>\n",
       "      <td>None</td>\n",
       "      <td>None</td>\n",
       "    </tr>\n",
       "  </tbody>\n",
       "</table>\n",
       "</div>"
      ],
      "text/plain": [
       "                tweet_id  in_reply_to_status_id  in_reply_to_user_id  \\\n",
       "30    886267009285017600           8.862664e+17         2.281182e+09   \n",
       "55    881633300179243008           8.816070e+17         4.738443e+07   \n",
       "64    879674319642796034           8.795538e+17         3.105441e+09   \n",
       "113   870726314365509632           8.707262e+17         1.648776e+07   \n",
       "148   863427515083354112           8.634256e+17         7.759620e+07   \n",
       "179   857214891891077121           8.571567e+17         1.806710e+08   \n",
       "185   856330835276025856                    NaN                  NaN   \n",
       "186   856288084350160898           8.562860e+17         2.792810e+08   \n",
       "188   855862651834028034           8.558616e+17         1.943518e+08   \n",
       "189   855860136149123072           8.558585e+17         1.361572e+07   \n",
       "218   850333567704068097           8.503288e+17         2.195506e+07   \n",
       "228   848213670039564288           8.482121e+17         4.196984e+09   \n",
       "234   847617282490613760           8.476062e+17         4.196984e+09   \n",
       "274   840698636975636481           8.406983e+17         8.405479e+17   \n",
       "290   838150277551247360           8.381455e+17         2.195506e+07   \n",
       "291   838085839343206401           8.380855e+17         2.894131e+09   \n",
       "313   835246439529840640           8.352460e+17         2.625958e+07   \n",
       "342   832088576586297345           8.320875e+17         3.058208e+07   \n",
       "346   831926988323639298           8.319030e+17         2.068372e+07   \n",
       "375   828361771580813312                    NaN                  NaN   \n",
       "387   826598799820865537           8.265984e+17         4.196984e+09   \n",
       "409   823333489516937216           8.233264e+17         1.582854e+09   \n",
       "427   821153421864615936           8.211526e+17         1.132119e+08   \n",
       "498   813130366689148928           8.131273e+17         4.196984e+09   \n",
       "513   811647686436880384           8.116272e+17         4.196984e+09   \n",
       "570   801854953262350336           8.018543e+17         1.185634e+07   \n",
       "576   800859414831898624           8.008580e+17         2.918590e+08   \n",
       "611   797165961484890113           7.971238e+17         2.916630e+07   \n",
       "701   786051337297522688           7.727430e+17         7.305050e+17   \n",
       "707   785515384317313025                    NaN                  NaN   \n",
       "843   766714921925144576           7.667118e+17         4.196984e+09   \n",
       "857   763956972077010945           7.638652e+17         1.584641e+07   \n",
       "967   750381685133418496           7.501805e+17         4.717297e+09   \n",
       "1005  747651430853525504           7.476487e+17         4.196984e+09   \n",
       "1080  738891149612572673           7.384119e+17         3.589728e+08   \n",
       "1295  707983188426153984           7.079801e+17         2.319108e+09   \n",
       "1345  704491224099647488           7.044857e+17         2.878549e+07   \n",
       "1445  696518437233913856                    NaN                  NaN   \n",
       "1446  696490539101908992           6.964887e+17         4.196984e+09   \n",
       "1474  693644216740769793           6.936422e+17         4.196984e+09   \n",
       "1479  693582294167244802           6.935722e+17         1.198989e+09   \n",
       "1497  692423280028966913           6.924173e+17         4.196984e+09   \n",
       "1523  690607260360429569           6.903413e+17         4.670367e+08   \n",
       "1598  686035780142297088           6.860340e+17         4.196984e+09   \n",
       "1605  685681090388975616           6.855479e+17         4.196984e+09   \n",
       "1618  684969860808454144           6.849598e+17         4.196984e+09   \n",
       "1663  682808988178739200           6.827884e+17         4.196984e+09   \n",
       "1689  681340665377193984           6.813394e+17         4.196984e+09   \n",
       "1774  678023323247357953           6.780211e+17         4.196984e+09   \n",
       "1819  676590572941893632           6.765883e+17         4.196984e+09   \n",
       "1844  675849018447167488           6.758457e+17         4.196984e+09   \n",
       "1895  674742531037511680           6.747400e+17         4.196984e+09   \n",
       "1905  674606911342424069           6.744689e+17         4.196984e+09   \n",
       "1914  674330906434379776           6.658147e+17         1.637468e+07   \n",
       "1940  673716320723169284           6.737159e+17         4.196984e+09   \n",
       "2038  671550332464455680           6.715449e+17         4.196984e+09   \n",
       "2149  669684865554620416           6.693544e+17         4.196984e+09   \n",
       "2189  668967877119254528           6.689207e+17         2.143566e+07   \n",
       "2298  667070482143944705           6.670655e+17         4.196984e+09   \n",
       "\n",
       "                      timestamp  \\\n",
       "30    2017-07-15 16:51:35 +0000   \n",
       "55    2017-07-02 21:58:53 +0000   \n",
       "64    2017-06-27 12:14:36 +0000   \n",
       "113   2017-06-02 19:38:25 +0000   \n",
       "148   2017-05-13 16:15:35 +0000   \n",
       "179   2017-04-26 12:48:51 +0000   \n",
       "185   2017-04-24 02:15:55 +0000   \n",
       "186   2017-04-23 23:26:03 +0000   \n",
       "188   2017-04-22 19:15:32 +0000   \n",
       "189   2017-04-22 19:05:32 +0000   \n",
       "218   2017-04-07 13:04:55 +0000   \n",
       "228   2017-04-01 16:41:12 +0000   \n",
       "234   2017-03-31 01:11:22 +0000   \n",
       "274   2017-03-11 22:59:09 +0000   \n",
       "290   2017-03-04 22:12:52 +0000   \n",
       "291   2017-03-04 17:56:49 +0000   \n",
       "313   2017-02-24 21:54:03 +0000   \n",
       "342   2017-02-16 04:45:50 +0000   \n",
       "346   2017-02-15 18:03:45 +0000   \n",
       "375   2017-02-05 21:56:51 +0000   \n",
       "387   2017-02-01 01:11:25 +0000   \n",
       "409   2017-01-23 00:56:15 +0000   \n",
       "427   2017-01-17 00:33:26 +0000   \n",
       "498   2016-12-25 21:12:41 +0000   \n",
       "513   2016-12-21 19:01:02 +0000   \n",
       "570   2016-11-24 18:28:13 +0000   \n",
       "576   2016-11-22 00:32:18 +0000   \n",
       "611   2016-11-11 19:55:50 +0000   \n",
       "701   2016-10-12 03:50:17 +0000   \n",
       "707   2016-10-10 16:20:36 +0000   \n",
       "843   2016-08-19 19:14:16 +0000   \n",
       "857   2016-08-12 04:35:10 +0000   \n",
       "967   2016-07-05 17:31:49 +0000   \n",
       "1005  2016-06-28 04:42:46 +0000   \n",
       "1080  2016-06-04 00:32:32 +0000   \n",
       "1295  2016-03-10 17:35:20 +0000   \n",
       "1345  2016-03-01 02:19:31 +0000   \n",
       "1445  2016-02-08 02:18:30 +0000   \n",
       "1446  2016-02-08 00:27:39 +0000   \n",
       "1474  2016-01-31 03:57:23 +0000   \n",
       "1479  2016-01-30 23:51:19 +0000   \n",
       "1497  2016-01-27 19:05:49 +0000   \n",
       "1523  2016-01-22 18:49:36 +0000   \n",
       "1598  2016-01-10 04:04:10 +0000   \n",
       "1605  2016-01-09 04:34:45 +0000   \n",
       "1618  2016-01-07 05:28:35 +0000   \n",
       "1663  2016-01-01 06:22:03 +0000   \n",
       "1689  2015-12-28 05:07:27 +0000   \n",
       "1774  2015-12-19 01:25:31 +0000   \n",
       "1819  2015-12-15 02:32:17 +0000   \n",
       "1844  2015-12-13 01:25:37 +0000   \n",
       "1895  2015-12-10 00:08:50 +0000   \n",
       "1905  2015-12-09 15:09:55 +0000   \n",
       "1914  2015-12-08 20:53:11 +0000   \n",
       "1940  2015-12-07 04:11:02 +0000   \n",
       "2038  2015-12-01 04:44:10 +0000   \n",
       "2149  2015-11-26 01:11:28 +0000   \n",
       "2189  2015-11-24 01:42:25 +0000   \n",
       "2298  2015-11-18 20:02:51 +0000   \n",
       "\n",
       "                                                 source  \\\n",
       "30    <a href=\"http://twitter.com/download/iphone\" r...   \n",
       "55    <a href=\"http://twitter.com/download/iphone\" r...   \n",
       "64    <a href=\"http://twitter.com/download/iphone\" r...   \n",
       "113   <a href=\"http://twitter.com/download/iphone\" r...   \n",
       "148   <a href=\"http://twitter.com/download/iphone\" r...   \n",
       "179   <a href=\"http://twitter.com/download/iphone\" r...   \n",
       "185   <a href=\"http://twitter.com/download/iphone\" r...   \n",
       "186   <a href=\"http://twitter.com/download/iphone\" r...   \n",
       "188   <a href=\"http://twitter.com/download/iphone\" r...   \n",
       "189   <a href=\"http://twitter.com/download/iphone\" r...   \n",
       "218   <a href=\"http://twitter.com/download/iphone\" r...   \n",
       "228   <a href=\"http://twitter.com/download/iphone\" r...   \n",
       "234   <a href=\"http://twitter.com/download/iphone\" r...   \n",
       "274   <a href=\"http://twitter.com/download/iphone\" r...   \n",
       "290   <a href=\"http://twitter.com/download/iphone\" r...   \n",
       "291   <a href=\"http://twitter.com/download/iphone\" r...   \n",
       "313   <a href=\"http://twitter.com/download/iphone\" r...   \n",
       "342   <a href=\"http://twitter.com/download/iphone\" r...   \n",
       "346   <a href=\"http://twitter.com/download/iphone\" r...   \n",
       "375   <a href=\"http://twitter.com\" rel=\"nofollow\">Tw...   \n",
       "387   <a href=\"http://twitter.com/download/iphone\" r...   \n",
       "409   <a href=\"http://twitter.com/download/iphone\" r...   \n",
       "427   <a href=\"http://twitter.com/download/iphone\" r...   \n",
       "498   <a href=\"http://twitter.com/download/iphone\" r...   \n",
       "513   <a href=\"http://twitter.com/download/iphone\" r...   \n",
       "570   <a href=\"http://twitter.com/download/iphone\" r...   \n",
       "576   <a href=\"http://twitter.com/download/iphone\" r...   \n",
       "611   <a href=\"http://twitter.com/download/iphone\" r...   \n",
       "701   <a href=\"http://twitter.com/download/iphone\" r...   \n",
       "707   <a href=\"http://twitter.com/download/iphone\" r...   \n",
       "843   <a href=\"http://twitter.com/download/iphone\" r...   \n",
       "857   <a href=\"http://twitter.com/download/iphone\" r...   \n",
       "967   <a href=\"http://twitter.com/download/iphone\" r...   \n",
       "1005  <a href=\"http://twitter.com/download/iphone\" r...   \n",
       "1080  <a href=\"http://twitter.com/download/iphone\" r...   \n",
       "1295  <a href=\"http://twitter.com/download/iphone\" r...   \n",
       "1345  <a href=\"http://twitter.com/download/iphone\" r...   \n",
       "1445  <a href=\"http://twitter.com/download/iphone\" r...   \n",
       "1446  <a href=\"http://twitter.com/download/iphone\" r...   \n",
       "1474  <a href=\"http://twitter.com/download/iphone\" r...   \n",
       "1479  <a href=\"http://twitter.com/download/iphone\" r...   \n",
       "1497  <a href=\"http://twitter.com/download/iphone\" r...   \n",
       "1523  <a href=\"http://twitter.com/download/iphone\" r...   \n",
       "1598  <a href=\"http://twitter.com/download/iphone\" r...   \n",
       "1605  <a href=\"http://twitter.com/download/iphone\" r...   \n",
       "1618  <a href=\"http://twitter.com/download/iphone\" r...   \n",
       "1663  <a href=\"http://twitter.com/download/iphone\" r...   \n",
       "1689  <a href=\"http://twitter.com/download/iphone\" r...   \n",
       "1774  <a href=\"http://twitter.com/download/iphone\" r...   \n",
       "1819  <a href=\"http://twitter.com/download/iphone\" r...   \n",
       "1844  <a href=\"http://twitter.com/download/iphone\" r...   \n",
       "1895  <a href=\"http://twitter.com/download/iphone\" r...   \n",
       "1905  <a href=\"http://twitter.com/download/iphone\" r...   \n",
       "1914  <a href=\"http://twitter.com/download/iphone\" r...   \n",
       "1940  <a href=\"http://twitter.com/download/iphone\" r...   \n",
       "2038  <a href=\"http://twitter.com/download/iphone\" r...   \n",
       "2149  <a href=\"http://twitter.com/download/iphone\" r...   \n",
       "2189  <a href=\"http://twitter.com/download/iphone\" r...   \n",
       "2298  <a href=\"http://twitter.com/download/iphone\" r...   \n",
       "\n",
       "                                                   text  retweeted_status_id  \\\n",
       "30    @NonWhiteHat @MayhewMayhem omg hello tanner yo...                  NaN   \n",
       "55    @roushfenway These are good dogs but 17/10 is ...                  NaN   \n",
       "64                      @RealKentMurphy 14/10 confirmed                  NaN   \n",
       "113   @ComplicitOwl @ShopWeRateDogs &gt;10/10 is res...                  NaN   \n",
       "148   @Jack_Septic_Eye I'd need a few more pics to p...                  NaN   \n",
       "179                        @Marc_IRL pixelated af 12/10                  NaN   \n",
       "185   RT @Jenna_Marbles: @dog_rates Thanks for ratin...         8.563302e+17   \n",
       "186   @xianmcguire @Jenna_Marbles Kardashians wouldn...                  NaN   \n",
       "188   @dhmontgomery We also gave snoop dogg a 420/10...                  NaN   \n",
       "189   @s8n You tried very hard to portray this good ...                  NaN   \n",
       "218   @markhoppus MARK THAT DOG HAS SEEN AND EXPERIE...                  NaN   \n",
       "228   Jerry just apuppologized to me. He said there ...                  NaN   \n",
       "234   .@breaannanicolee PUPDATE: Cannon has a heart ...                  NaN   \n",
       "274   @0_kelvin_0 &gt;10/10 is reserved for puppos s...                  NaN   \n",
       "290                                  @markhoppus 182/10                  NaN   \n",
       "291   @bragg6of8 @Andy_Pace_ we are still looking fo...                  NaN   \n",
       "313   @jonnysun @Lin_Manuel ok jomny I know you're e...                  NaN   \n",
       "342            @docmisterio account started on 11/15/15                  NaN   \n",
       "346                              @UNC can confirm 12/10                  NaN   \n",
       "375   Beebop and Doobert should start a band 12/10 w...                  NaN   \n",
       "387   I was going to do 007/10, but the joke wasn't ...                  NaN   \n",
       "409                                @HistoryInPics 13/10                  NaN   \n",
       "427   @imgur for a polar bear tho I'd say 13/10 is a...                  NaN   \n",
       "498   I've been informed by multiple sources that th...                  NaN   \n",
       "513   PUPDATE: I've been informed that Augie was act...                  NaN   \n",
       "570   .@NBCSports OMG THE TINY HAT I'M GOING TO HAVE...                  NaN   \n",
       "576   @SkyWilliams doggo simply protecting you from ...                  NaN   \n",
       "611   @JODYHiGHROLLER it may be an 11/10 but what do...                  NaN   \n",
       "701             13/10 for breakdancing puppo @shibbnbot                  NaN   \n",
       "707      Today, 10/10, should be National Dog Rates Day                  NaN   \n",
       "843   His name is Charley and he already has a new s...                  NaN   \n",
       "857   @TheEllenShow I'm not sure if you know this bu...                  NaN   \n",
       "967                13/10 such a good doggo\\n@spaghemily                  NaN   \n",
       "1005  Other pupper asked not to have his identity sh...                  NaN   \n",
       "1080                                 @mount_alex3 13/10                  NaN   \n",
       "1295  @serial @MrRoles OH MY GOD I listened to all o...                  NaN   \n",
       "1345                                13/10 hero af\\n@ABC                  NaN   \n",
       "1445    Oh my god 10/10 for every little hot dog pupper                  NaN   \n",
       "1446  After reading the comments I may have overesti...                  NaN   \n",
       "1474  BREAKING PUPDATE: I've just been notified that...                  NaN   \n",
       "1479  Personally I'd give him an 11/10. Not sure why...                  NaN   \n",
       "1497  PUPDATE: just noticed this dog has some extra ...                  NaN   \n",
       "1523                              12/10 @LightningHoltt                  NaN   \n",
       "1598  Yes I do realize a rating of 4/20 would've bee...                  NaN   \n",
       "1605  Jack deserves another round of applause. If yo...                  NaN   \n",
       "1618  For those who claim this is a goat, u are wron...                  NaN   \n",
       "1663  I'm aware that I could've said 20/16, but here...                  NaN   \n",
       "1689  I've been told there's a slight possibility he...                  NaN   \n",
       "1774  After getting lost in Reese's eyes for several...                  NaN   \n",
       "1819  After some outrage from the crowd. Bubbles is ...                  NaN   \n",
       "1844  This dog is being demoted to a 9/10 for not we...                  NaN   \n",
       "1895  Some clarification is required. The dog is sin...                  NaN   \n",
       "1905  The 13/10 also takes into account this impecca...                  NaN   \n",
       "1914                                       13/10\\n@ABC7                  NaN   \n",
       "1940  The millennials have spoken and we've decided ...                  NaN   \n",
       "2038  After 22 minutes of careful deliberation this ...                  NaN   \n",
       "2149  After countless hours of research and hundreds...                  NaN   \n",
       "2189                     12/10 good shit Bubka\\n@wane15                  NaN   \n",
       "2298  After much debate this dog is being upgraded t...                  NaN   \n",
       "\n",
       "      retweeted_status_user_id retweeted_status_timestamp expanded_urls  \\\n",
       "30                         NaN                        NaN           NaN   \n",
       "55                         NaN                        NaN           NaN   \n",
       "64                         NaN                        NaN           NaN   \n",
       "113                        NaN                        NaN           NaN   \n",
       "148                        NaN                        NaN           NaN   \n",
       "179                        NaN                        NaN           NaN   \n",
       "185                 66699013.0  2017-04-24 02:13:14 +0000           NaN   \n",
       "186                        NaN                        NaN           NaN   \n",
       "188                        NaN                        NaN           NaN   \n",
       "189                        NaN                        NaN           NaN   \n",
       "218                        NaN                        NaN           NaN   \n",
       "228                        NaN                        NaN           NaN   \n",
       "234                        NaN                        NaN           NaN   \n",
       "274                        NaN                        NaN           NaN   \n",
       "290                        NaN                        NaN           NaN   \n",
       "291                        NaN                        NaN           NaN   \n",
       "313                        NaN                        NaN           NaN   \n",
       "342                        NaN                        NaN           NaN   \n",
       "346                        NaN                        NaN           NaN   \n",
       "375                        NaN                        NaN           NaN   \n",
       "387                        NaN                        NaN           NaN   \n",
       "409                        NaN                        NaN           NaN   \n",
       "427                        NaN                        NaN           NaN   \n",
       "498                        NaN                        NaN           NaN   \n",
       "513                        NaN                        NaN           NaN   \n",
       "570                        NaN                        NaN           NaN   \n",
       "576                        NaN                        NaN           NaN   \n",
       "611                        NaN                        NaN           NaN   \n",
       "701                        NaN                        NaN           NaN   \n",
       "707                        NaN                        NaN           NaN   \n",
       "843                        NaN                        NaN           NaN   \n",
       "857                        NaN                        NaN           NaN   \n",
       "967                        NaN                        NaN           NaN   \n",
       "1005                       NaN                        NaN           NaN   \n",
       "1080                       NaN                        NaN           NaN   \n",
       "1295                       NaN                        NaN           NaN   \n",
       "1345                       NaN                        NaN           NaN   \n",
       "1445                       NaN                        NaN           NaN   \n",
       "1446                       NaN                        NaN           NaN   \n",
       "1474                       NaN                        NaN           NaN   \n",
       "1479                       NaN                        NaN           NaN   \n",
       "1497                       NaN                        NaN           NaN   \n",
       "1523                       NaN                        NaN           NaN   \n",
       "1598                       NaN                        NaN           NaN   \n",
       "1605                       NaN                        NaN           NaN   \n",
       "1618                       NaN                        NaN           NaN   \n",
       "1663                       NaN                        NaN           NaN   \n",
       "1689                       NaN                        NaN           NaN   \n",
       "1774                       NaN                        NaN           NaN   \n",
       "1819                       NaN                        NaN           NaN   \n",
       "1844                       NaN                        NaN           NaN   \n",
       "1895                       NaN                        NaN           NaN   \n",
       "1905                       NaN                        NaN           NaN   \n",
       "1914                       NaN                        NaN           NaN   \n",
       "1940                       NaN                        NaN           NaN   \n",
       "2038                       NaN                        NaN           NaN   \n",
       "2149                       NaN                        NaN           NaN   \n",
       "2189                       NaN                        NaN           NaN   \n",
       "2298                       NaN                        NaN           NaN   \n",
       "\n",
       "      rating_numerator  rating_denominator  name  doggo floofer  pupper  puppo  \n",
       "30                  12                  10  None   None    None    None   None  \n",
       "55                  17                  10  None   None    None    None   None  \n",
       "64                  14                  10  None   None    None    None   None  \n",
       "113                 10                  10  None   None    None    None   None  \n",
       "148                 12                  10  None   None    None    None   None  \n",
       "179                 12                  10  None   None    None    None   None  \n",
       "185                 14                  10  None   None    None    None   None  \n",
       "186                 14                  10  None   None    None    None   None  \n",
       "188                420                  10  None   None    None    None   None  \n",
       "189                666                  10  None   None    None    None   None  \n",
       "218                 13                  10  None   None    None    None   None  \n",
       "228                 11                  10  None   None    None    None   None  \n",
       "234                 13                  10  None   None    None    None   None  \n",
       "274                 10                  10  None   None    None    None   None  \n",
       "290                182                  10  None   None    None    None   None  \n",
       "291                 15                  10  None   None    None    None   None  \n",
       "313                960                   0  None   None    None    None   None  \n",
       "342                 11                  15  None   None    None    None   None  \n",
       "346                 12                  10  None   None    None    None   None  \n",
       "375                 12                  10  None   None    None    None   None  \n",
       "387                  7                  10  None   None    None    None   None  \n",
       "409                 13                  10  None   None    None    None   None  \n",
       "427                 13                  10  None   None    None    None   None  \n",
       "498                 12                  10  None   None    None    None   None  \n",
       "513                 11                  10  None   None    None    None   None  \n",
       "570                 11                  10  None   None    None    None   None  \n",
       "576                 11                  10  None  doggo    None    None   None  \n",
       "611                 11                  10  None   None    None    None   None  \n",
       "701                 13                  10  None   None    None    None  puppo  \n",
       "707                 10                  10  None   None    None    None   None  \n",
       "843                 13                  10  None   None    None    None   None  \n",
       "857                 12                  10  None  doggo    None    None   None  \n",
       "967                 13                  10  None  doggo    None    None   None  \n",
       "1005                12                  10  None   None    None  pupper   None  \n",
       "1080                13                  10  None   None    None    None   None  \n",
       "1295                12                  10  None   None    None    None   None  \n",
       "1345                13                  10  None   None    None    None   None  \n",
       "1445                10                  10  None   None    None  pupper   None  \n",
       "1446                 1                  10  None   None    None    None   None  \n",
       "1474                10                  10  None   None    None    None   None  \n",
       "1479                11                  10  None   None    None    None   None  \n",
       "1497                 9                  10  None   None    None    None   None  \n",
       "1523                12                  10  None   None    None    None   None  \n",
       "1598                 4                  20  None   None    None    None   None  \n",
       "1605                14                  10  None   None    None    None   None  \n",
       "1618                 5                  10  None   None    None    None   None  \n",
       "1663                20                  16  None   None    None    None   None  \n",
       "1689                 5                  10  None   None    None    None   None  \n",
       "1774                13                  10  None   None    None    None   None  \n",
       "1819                 7                  10  None   None    None    None   None  \n",
       "1844                 9                  10  None   None    None    None   None  \n",
       "1895                11                  10  None   None    None    None   None  \n",
       "1905                13                  10  None   None    None    None   None  \n",
       "1914                13                  10  None   None    None    None   None  \n",
       "1940                 1                  10  None   None    None    None   None  \n",
       "2038                 1                  10  None   None    None    None   None  \n",
       "2149                11                  10  None   None    None    None   None  \n",
       "2189                12                  10  None   None    None    None   None  \n",
       "2298                10                  10  None   None    None    None   None  "
      ]
     },
     "execution_count": 7,
     "metadata": {},
     "output_type": "execute_result"
    }
   ],
   "source": [
    "twitter_archive[twitter_archive['expanded_urls'].isnull()]"
   ]
  },
  {
   "cell_type": "markdown",
   "metadata": {},
   "source": [
    "#### The columns with missing rows in the column are those irrelevant to our analyses, they are replies urls"
   ]
  },
  {
   "cell_type": "code",
   "execution_count": 8,
   "metadata": {},
   "outputs": [
    {
     "data": {
      "text/plain": [
       "False"
      ]
     },
     "execution_count": 8,
     "metadata": {},
     "output_type": "execute_result"
    }
   ],
   "source": [
    "#check for duplicated tweets\n",
    "twitter_archive['tweet_id'].duplicated().any()"
   ]
  },
  {
   "cell_type": "code",
   "execution_count": 9,
   "metadata": {},
   "outputs": [
    {
     "data": {
      "text/plain": [
       "False"
      ]
     },
     "execution_count": 9,
     "metadata": {},
     "output_type": "execute_result"
    }
   ],
   "source": [
    "#check for duplicates in whole table\n",
    "twitter_archive.duplicated().any()"
   ]
  },
  {
   "cell_type": "markdown",
   "metadata": {},
   "source": [
    "There seemed to be no duplicates in the table"
   ]
  },
  {
   "cell_type": "code",
   "execution_count": 10,
   "metadata": {},
   "outputs": [
    {
     "name": "stdout",
     "output_type": "stream",
     "text": [
      "<class 'pandas.core.frame.DataFrame'>\n",
      "RangeIndex: 2075 entries, 0 to 2074\n",
      "Data columns (total 12 columns):\n",
      " #   Column    Non-Null Count  Dtype  \n",
      "---  ------    --------------  -----  \n",
      " 0   tweet_id  2075 non-null   int64  \n",
      " 1   jpg_url   2075 non-null   object \n",
      " 2   img_num   2075 non-null   int64  \n",
      " 3   p1        2075 non-null   object \n",
      " 4   p1_conf   2075 non-null   float64\n",
      " 5   p1_dog    2075 non-null   bool   \n",
      " 6   p2        2075 non-null   object \n",
      " 7   p2_conf   2075 non-null   float64\n",
      " 8   p2_dog    2075 non-null   bool   \n",
      " 9   p3        2075 non-null   object \n",
      " 10  p3_conf   2075 non-null   float64\n",
      " 11  p3_dog    2075 non-null   bool   \n",
      "dtypes: bool(3), float64(3), int64(2), object(4)\n",
      "memory usage: 152.1+ KB\n"
     ]
    }
   ],
   "source": [
    "image_predictions.info()"
   ]
  },
  {
   "cell_type": "code",
   "execution_count": 11,
   "metadata": {},
   "outputs": [
    {
     "data": {
      "text/plain": [
       "False"
      ]
     },
     "execution_count": 11,
     "metadata": {},
     "output_type": "execute_result"
    }
   ],
   "source": [
    "#check for duplicated tweets in table\n",
    "image_predictions['tweet_id'].duplicated().any()"
   ]
  },
  {
   "cell_type": "code",
   "execution_count": 12,
   "metadata": {},
   "outputs": [
    {
     "data": {
      "text/plain": [
       "False"
      ]
     },
     "execution_count": 12,
     "metadata": {},
     "output_type": "execute_result"
    }
   ],
   "source": [
    "#check for duplicates in whole table\n",
    "image_predictions.duplicated().any()"
   ]
  },
  {
   "cell_type": "markdown",
   "metadata": {},
   "source": [
    "#### There are neither missing rows nor duplicates in table"
   ]
  },
  {
   "cell_type": "code",
   "execution_count": 13,
   "metadata": {},
   "outputs": [
    {
     "name": "stdout",
     "output_type": "stream",
     "text": [
      "<class 'pandas.core.frame.DataFrame'>\n",
      "RangeIndex: 2354 entries, 0 to 2353\n",
      "Data columns (total 3 columns):\n",
      " #   Column          Non-Null Count  Dtype\n",
      "---  ------          --------------  -----\n",
      " 0   tweet_id        2354 non-null   int64\n",
      " 1   retweet_count   2354 non-null   int64\n",
      " 2   favorite_count  2354 non-null   int64\n",
      "dtypes: int64(3)\n",
      "memory usage: 55.3 KB\n"
     ]
    }
   ],
   "source": [
    "df_tweets.info()"
   ]
  },
  {
   "cell_type": "code",
   "execution_count": 14,
   "metadata": {},
   "outputs": [
    {
     "data": {
      "text/plain": [
       "False"
      ]
     },
     "execution_count": 14,
     "metadata": {},
     "output_type": "execute_result"
    }
   ],
   "source": [
    "#check for duplicated tweets\n",
    "df_tweets['tweet_id'].duplicated().any()"
   ]
  },
  {
   "cell_type": "code",
   "execution_count": 15,
   "metadata": {},
   "outputs": [
    {
     "data": {
      "text/plain": [
       "False"
      ]
     },
     "execution_count": 15,
     "metadata": {},
     "output_type": "execute_result"
    }
   ],
   "source": [
    "#check for duplicates in whole table\n",
    "df_tweets.duplicated().any()"
   ]
  },
  {
   "cell_type": "markdown",
   "metadata": {},
   "source": [
    "## Quality issues\n",
    "### **twitter_archive table**\n",
    "* #####  **incorrect datatypes**\n",
    "1. tweet_id, in_reply_to_status_id, in_reply_to_user_id, retweeted_status_id and retweeted_status_user_id columns should be strings(objects)\n",
    "2. timestamp, retweeted_status_timestamp should be datetime datatype, not objects\n",
    "\n",
    "* ##### **Incorrect names**\n",
    "3. some texts **without names** were saved with different words ('a', 'an', 'by', 'my', 'not', 'actually', 'one', 'quite', 'such' 'the', 'none') extracted from the texts. Other dog names incorrectly extracted were:\n",
    "4. 'O' instead of O'Malley for tweet_id 776201521193218049\n",
    "5. 'Al' instead of 'Al Cabone' for tweet_id 770414278348247044\n",
    "6. 'my' instead of 'Zoey' for tweet_id 765395769549590528\n",
    "7. 'a' for ('Jacob', tweet_id 671743150407421952; 'Rufus', tweet_id 671147085991960577; 'Spork', tweet_id 670427002554466305; 'Cherokee', tweet_id 670361874861563904; 'Alphred', tweet_id 669923323644657664; 'Alfredo', tweet_id 669564461267722241; 'Leroi', tweet_id 668955713004314625; 'Chuk', tweet_id 668507509523615744; 'Alfonso', tweet_id 668171859951755264; 'Cheryl', tweet_id 667861340749471744; 'Jessiga', tweet_id 667773195014021121; 'Klint', tweet_id 667538891197542400; 'Kohl', tweet_id 667470559035432960; 'Daryl', tweet_id 667177989038297088)\n",
    "8. rows in columns(doggo, floofer, pupper, puppo) without stages had None as value\n",
    "* ##### **wrong ratings**\n",
    "9. some ratings were wrongly extracted. e.g tweet_id 716439118184652801 had 50/50 rating instead of 11/10, tweet_id 722974582966214656 had 4/20 instead of 13/10\n",
    "10. some rating_denominator are above or below 10\n",
    "##### **irrelevant columns/ rows in table**\n",
    "11. source, timestamp, retweeted_status_timestamp, expanded_urls columns are irrelevant to our analysis\n",
    "12. some rows(tweets) contain retweets and replies\n",
    "### image_predictions table\n",
    "\n",
    "13. **incorrect datatype**: tweet_id should be object, not int\n",
    "14. some of the predicted images were not dogs\n",
    "\n",
    "### df_tweets table\n",
    "15. **incorrect datatype**: tweet_id should be object, not int"
   ]
  },
  {
   "cell_type": "markdown",
   "metadata": {
    "extensions": {
     "jupyter_dashboards": {
      "version": 1,
      "views": {
       "grid_default": {
        "col": 0,
        "height": 7,
        "hidden": false,
        "row": 40,
        "width": 12
       },
       "report_default": {
        "hidden": false
       }
      }
     }
    }
   },
   "source": [
    "## Tidiness issues\n",
    "### twitter_archive table\n",
    "1. ##### **unconformity of stages columns**\n",
    "* the stages columns(doggo, floofer, pupper and puppo) should be in one column\n",
    "\n",
    "2. the three tables should be in a single table for easy analysis"
   ]
  },
  {
   "cell_type": "markdown",
   "metadata": {
    "extensions": {
     "jupyter_dashboards": {
      "version": 1,
      "views": {
       "grid_default": {
        "col": 4,
        "height": 4,
        "hidden": false,
        "row": 32,
        "width": 4
       },
       "report_default": {
        "hidden": false
       }
      }
     }
    }
   },
   "source": [
    "## Cleaning Data\n",
    "In this section, all issues(quality and tidiness issues) documented above would be cleaned"
   ]
  },
  {
   "cell_type": "code",
   "execution_count": 16,
   "metadata": {},
   "outputs": [],
   "source": [
    "# Make copies of original pieces of data\n",
    "twitter_archive_clean = twitter_archive.copy()\n",
    "image_predictions_clean = image_predictions.copy()\n",
    "df_tweets_clean = df_tweets.copy()"
   ]
  },
  {
   "cell_type": "code",
   "execution_count": null,
   "metadata": {},
   "outputs": [],
   "source": []
  },
  {
   "cell_type": "markdown",
   "metadata": {},
   "source": [
    "## Quality Issues:\n",
    "### Issue #1:"
   ]
  },
  {
   "cell_type": "markdown",
   "metadata": {},
   "source": [
    "#### Define:\n",
    "drop rows where 'in_reply_to_status_id', 'in_reply_to_user_id', 'retweeted_status_id', 'retweeted_status_user_id' are not nulls as they signified the rows were not original tweets"
   ]
  },
  {
   "cell_type": "markdown",
   "metadata": {},
   "source": [
    "#### Code:"
   ]
  },
  {
   "cell_type": "code",
   "execution_count": 17,
   "metadata": {},
   "outputs": [],
   "source": [
    "def drop(a):\n",
    "    twitter_archive_clean.drop(index = (twitter_archive_clean[twitter_archive_clean[a].notnull()].index), inplace= True)\n",
    "drop('in_reply_to_status_id')\n",
    "drop('in_reply_to_user_id')\n",
    "drop('retweeted_status_id')\n",
    "drop('retweeted_status_user_id')"
   ]
  },
  {
   "cell_type": "markdown",
   "metadata": {},
   "source": [
    "#### Test:"
   ]
  },
  {
   "cell_type": "code",
   "execution_count": 18,
   "metadata": {},
   "outputs": [
    {
     "name": "stdout",
     "output_type": "stream",
     "text": [
      "<class 'pandas.core.frame.DataFrame'>\n",
      "Int64Index: 2097 entries, 0 to 2355\n",
      "Data columns (total 17 columns):\n",
      " #   Column                      Non-Null Count  Dtype  \n",
      "---  ------                      --------------  -----  \n",
      " 0   tweet_id                    2097 non-null   int64  \n",
      " 1   in_reply_to_status_id       0 non-null      float64\n",
      " 2   in_reply_to_user_id         0 non-null      float64\n",
      " 3   timestamp                   2097 non-null   object \n",
      " 4   source                      2097 non-null   object \n",
      " 5   text                        2097 non-null   object \n",
      " 6   retweeted_status_id         0 non-null      float64\n",
      " 7   retweeted_status_user_id    0 non-null      float64\n",
      " 8   retweeted_status_timestamp  0 non-null      object \n",
      " 9   expanded_urls               2094 non-null   object \n",
      " 10  rating_numerator            2097 non-null   int64  \n",
      " 11  rating_denominator          2097 non-null   int64  \n",
      " 12  name                        2097 non-null   object \n",
      " 13  doggo                       2097 non-null   object \n",
      " 14  floofer                     2097 non-null   object \n",
      " 15  pupper                      2097 non-null   object \n",
      " 16  puppo                       2097 non-null   object \n",
      "dtypes: float64(4), int64(3), object(10)\n",
      "memory usage: 359.4+ KB\n"
     ]
    }
   ],
   "source": [
    "#the columns above should be null and the number of rows in the dataset reduced\n",
    "twitter_archive_clean.info()"
   ]
  },
  {
   "cell_type": "markdown",
   "metadata": {},
   "source": [
    "### Issue #2:"
   ]
  },
  {
   "cell_type": "markdown",
   "metadata": {},
   "source": [
    "#### Define:\n",
    "From the three tables, change tweet_id, datatype to strings(objects)"
   ]
  },
  {
   "cell_type": "markdown",
   "metadata": {},
   "source": [
    "#### Code"
   ]
  },
  {
   "cell_type": "code",
   "execution_count": 19,
   "metadata": {},
   "outputs": [],
   "source": [
    "def dtype(x):\n",
    "    x['tweet_id']= x['tweet_id'].astype(str)\n",
    "dtype(twitter_archive_clean)\n",
    "dtype(image_predictions)\n",
    "dtype(df_tweets)"
   ]
  },
  {
   "cell_type": "markdown",
   "metadata": {},
   "source": [
    "#### Test"
   ]
  },
  {
   "cell_type": "code",
   "execution_count": 20,
   "metadata": {},
   "outputs": [
    {
     "data": {
      "text/plain": [
       "(dtype('O'), dtype('O'), dtype('O'))"
      ]
     },
     "execution_count": 20,
     "metadata": {},
     "output_type": "execute_result"
    }
   ],
   "source": [
    "twitter_archive_clean['tweet_id'].dtype, image_predictions['tweet_id'].dtype, df_tweets['tweet_id'].dtype"
   ]
  },
  {
   "cell_type": "markdown",
   "metadata": {},
   "source": [
    "### Issue #3:"
   ]
  },
  {
   "cell_type": "markdown",
   "metadata": {
    "collapsed": true,
    "extensions": {
     "jupyter_dashboards": {
      "version": 1,
      "views": {
       "grid_default": {
        "hidden": true
       },
       "report_default": {
        "hidden": true
       }
      }
     }
    }
   },
   "source": [
    "#### Define\n",
    "From twitter_archive_clean table, change timestamp and retweeted_status_timestamp datatypes to datetime datatype"
   ]
  },
  {
   "cell_type": "code",
   "execution_count": 21,
   "metadata": {},
   "outputs": [],
   "source": [
    "col_list = ['timestamp', 'retweeted_status_timestamp']\n",
    "for col in col_list:\n",
    "    twitter_archive_clean[col] = pd.to_datetime(twitter_archive_clean[col])"
   ]
  },
  {
   "cell_type": "markdown",
   "metadata": {},
   "source": [
    "#### Code"
   ]
  },
  {
   "cell_type": "markdown",
   "metadata": {},
   "source": [
    "#### Test"
   ]
  },
  {
   "cell_type": "code",
   "execution_count": 22,
   "metadata": {},
   "outputs": [
    {
     "data": {
      "text/plain": [
       "(datetime64[ns, UTC], dtype('<M8[ns]'))"
      ]
     },
     "execution_count": 22,
     "metadata": {},
     "output_type": "execute_result"
    }
   ],
   "source": [
    "twitter_archive_clean['timestamp'].dtype, twitter_archive_clean['retweeted_status_timestamp'].dtype"
   ]
  },
  {
   "cell_type": "markdown",
   "metadata": {},
   "source": [
    "### Issue #4:"
   ]
  },
  {
   "cell_type": "markdown",
   "metadata": {},
   "source": [
    "#### Define:\n",
    "From twitter_archive_clean table, replace the foolowing wrongly extracted names:\n",
    "* 'O' to O' Malley for tweet_id 776201521193218049\n",
    "* 'Al' instead of 'Al Cabone' for tweet_id 770414278348247044\n",
    "* 'my' instead of 'Zoey' for tweet_id 765395769549590528"
   ]
  },
  {
   "cell_type": "markdown",
   "metadata": {},
   "source": [
    "#### Code:"
   ]
  },
  {
   "cell_type": "code",
   "execution_count": 23,
   "metadata": {},
   "outputs": [],
   "source": [
    "twitter_archive_clean.loc[twitter_archive_clean['tweet_id']== '776201521193218049', 'name'] = \"O' Malley\"\n",
    "twitter_archive_clean.loc[twitter_archive_clean['tweet_id']== '770414278348247044', 'name'] = \"Al Cabone\"\n",
    "twitter_archive_clean.loc[twitter_archive_clean['tweet_id']== '765395769549590528', 'name'] = \"Zoey\""
   ]
  },
  {
   "cell_type": "markdown",
   "metadata": {},
   "source": [
    "#### Test:"
   ]
  },
  {
   "cell_type": "code",
   "execution_count": 24,
   "metadata": {},
   "outputs": [],
   "source": [
    "check_list =['O', 'Al','my']\n",
    "for val in check_list:\n",
    "    assert val not in twitter_archive_clean['name'].values"
   ]
  },
  {
   "cell_type": "markdown",
   "metadata": {},
   "source": [
    "### Issue #5:"
   ]
  },
  {
   "cell_type": "markdown",
   "metadata": {},
   "source": [
    "#### Define:\n",
    "From twitter_archive_clean table, replace names with 'a', 'an', 'by', 'not', 'actually', 'one', 'quite' ,'just', 'officially', 'light', 'space', 'such' 'the', and 'none' with null to indicate missing names"
   ]
  },
  {
   "cell_type": "markdown",
   "metadata": {},
   "source": [
    "#### Code:"
   ]
  },
  {
   "cell_type": "code",
   "execution_count": 25,
   "metadata": {},
   "outputs": [],
   "source": [
    "val_list = ['a', 'an', 'by', 'not', 'actually', 'one', 'quite','just', 'officially', 'light', 'space', 'such','the','very','None', 'getting', 'incredibly', 'infuriating']\n",
    "for value in val_list:\n",
    "    twitter_archive_clean['name'].replace(value, np.NaN, inplace= True)"
   ]
  },
  {
   "cell_type": "markdown",
   "metadata": {},
   "source": [
    "#### Test:"
   ]
  },
  {
   "cell_type": "code",
   "execution_count": 26,
   "metadata": {},
   "outputs": [],
   "source": [
    "check_list = ['a', 'an', 'by', 'not', 'actually', 'one', 'quite','just', 'officially', 'light', 'space', 'such' 'the', 'None']\n",
    "for value in val_list:\n",
    "    assert val not in twitter_archive_clean['name'].values"
   ]
  },
  {
   "cell_type": "markdown",
   "metadata": {},
   "source": [
    "### Issue #6:"
   ]
  },
  {
   "cell_type": "markdown",
   "metadata": {},
   "source": [
    "#### Define:\n",
    "correctly fill the names of the tweet IDs below (which previously had 'a' as their extracted names)\n",
    "* 'Jacob', tweet_id 671743150407421952; 'Rufus', tweet_id 671147085991960577; 'Spork', tweet_id 670427002554466305; 'Cherokee', tweet_id 670361874861563904; 'Alphred', tweet_id 669923323644657664; 'Alfredo', tweet_id 669564461267722241; 'Leroi', tweet_id 668955713004314625; 'Chuk', tweet_id 668507509523615744; 'Alfonso', tweet_id 668171859951755264; 'Cheryl', tweet_id 667861340749471744; 'Jessiga', tweet_id 667773195014021121; 'Klint', tweet_id 667538891197542400; 'Kohl', tweet_id 667470559035432960; 'Daryl', tweet_id 667177989038297088"
   ]
  },
  {
   "cell_type": "markdown",
   "metadata": {},
   "source": [
    "#### Code:"
   ]
  },
  {
   "cell_type": "code",
   "execution_count": 27,
   "metadata": {},
   "outputs": [],
   "source": [
    "def name_change(a, b):\n",
    "    twitter_archive_clean.loc[twitter_archive_clean['tweet_id']== a, 'name'] = b \n",
    "                             \n",
    "name_change('671743150407421952', \"Jacob\")\n",
    "name_change('671147085991960577', \"Rufus\")\n",
    "name_change('670427002554466305', \"Spork\")\n",
    "name_change('670361874861563904', \"Cherokee\")\n",
    "name_change('669923323644657664', \"Alphred\")\n",
    "name_change('669564461267722241', \"Alfredo\")\n",
    "name_change('668955713004314625', \"Leroi\")\n",
    "name_change('668507509523615744', \"Chuk\")\n",
    "name_change('668171859951755264', \"Alfonso\")\n",
    "name_change('667861340749471744', \"Cheryl\")\n",
    "name_change('667773195014021121', \"Jessiga\")\n",
    "name_change('667538891197542400', \"Klint\")\n",
    "name_change('667470559035432960', \"Kohl\")  \n",
    "name_change('667177989038297088', \"Daryl\")"
   ]
  },
  {
   "cell_type": "markdown",
   "metadata": {},
   "source": [
    "#### Test:"
   ]
  },
  {
   "cell_type": "code",
   "execution_count": 28,
   "metadata": {},
   "outputs": [
    {
     "name": "stdout",
     "output_type": "stream",
     "text": [
      "2034    Jacob\n",
      "Name: name, dtype: object\n",
      "2066    Rufus\n",
      "Name: name, dtype: object\n",
      "2116    Spork\n",
      "Name: name, dtype: object\n",
      "2125    Cherokee\n",
      "Name: name, dtype: object\n",
      "2146    Alphred\n",
      "Name: name, dtype: object\n",
      "2161    Alfredo\n",
      "Name: name, dtype: object\n",
      "2191    Leroi\n",
      "Name: name, dtype: object\n",
      "2218    Chuk\n",
      "Name: name, dtype: object\n"
     ]
    }
   ],
   "source": [
    "id_list = ['671743150407421952', '671147085991960577', '670427002554466305', '670361874861563904', '669923323644657664', '669564461267722241', '668955713004314625','668507509523615744']\n",
    "for ids in id_list:\n",
    "    print(twitter_archive_clean.loc[twitter_archive_clean['tweet_id']== ids, 'name']);"
   ]
  },
  {
   "cell_type": "markdown",
   "metadata": {},
   "source": [
    "### Issue #7:"
   ]
  },
  {
   "cell_type": "markdown",
   "metadata": {},
   "source": [
    "#### Define:\n",
    "remove columns not needed for analysis"
   ]
  },
  {
   "cell_type": "markdown",
   "metadata": {},
   "source": [
    "#### Code:"
   ]
  },
  {
   "cell_type": "code",
   "execution_count": 29,
   "metadata": {},
   "outputs": [],
   "source": [
    "twitter_archive_clean.drop(columns= ([ 'in_reply_to_status_id', 'in_reply_to_user_id', 'timestamp',\n",
    "       'source','retweeted_status_id', 'retweeted_status_user_id',\n",
    "       'retweeted_status_timestamp', 'expanded_urls']), axis = 1, inplace = True)"
   ]
  },
  {
   "cell_type": "markdown",
   "metadata": {},
   "source": [
    "#### Test:"
   ]
  },
  {
   "cell_type": "code",
   "execution_count": 30,
   "metadata": {},
   "outputs": [
    {
     "data": {
      "text/plain": [
       "Index(['tweet_id', 'text', 'rating_numerator', 'rating_denominator', 'name',\n",
       "       'doggo', 'floofer', 'pupper', 'puppo'],\n",
       "      dtype='object')"
      ]
     },
     "execution_count": 30,
     "metadata": {},
     "output_type": "execute_result"
    }
   ],
   "source": [
    "twitter_archive_clean.columns"
   ]
  },
  {
   "cell_type": "markdown",
   "metadata": {},
   "source": [
    "### Issue #8:"
   ]
  },
  {
   "cell_type": "markdown",
   "metadata": {},
   "source": [
    "#### Define:\n",
    "change the wrongly extracted ratings denominator for the following tweet ids:\n",
    "* tweet_id 716439118184652801 which had 50/50 rating instead of 11/10\n",
    "* tweet_id 722974582966214656 which had 4/20 rating instead of 13/10\n",
    "* tweet_id 740373189193256964 which had 9/11 rating instead of 14/10\n",
    "* tweet_id 682962037429899265 which had 7/11 rating instead of 10/10\n",
    "* tweet_id 666287406224695296 which had 1/2 rating instead of 9/10"
   ]
  },
  {
   "cell_type": "markdown",
   "metadata": {},
   "source": [
    "#### Code:"
   ]
  },
  {
   "cell_type": "code",
   "execution_count": 31,
   "metadata": {},
   "outputs": [],
   "source": [
    "def numerator(a):\n",
    "    twitter_archive_clean.loc[twitter_archive_clean['tweet_id']== a, 'rating_numerator'] = twitter_archive_clean.loc[twitter_archive_clean['tweet_id']== a, 'text'].str.extract(r'(\\d+(?=/10))')[0]\n",
    "numerator('716439118184652801')\n",
    "numerator('722974582966214656')\n",
    "numerator('740373189193256964')\n",
    "numerator('682962037429899265')\n",
    "numerator('666287406224695296')"
   ]
  },
  {
   "cell_type": "code",
   "execution_count": 32,
   "metadata": {},
   "outputs": [],
   "source": [
    "def denominator(a):\n",
    "    twitter_archive_clean.loc[twitter_archive_clean['tweet_id']== a, 'rating_denominator'] = 10\n",
    "denominator('716439118184652801')\n",
    "denominator('722974582966214656')\n",
    "denominator('740373189193256964')\n",
    "denominator('682962037429899265')\n",
    "denominator('666287406224695296')"
   ]
  },
  {
   "cell_type": "markdown",
   "metadata": {},
   "source": [
    "#### Test:"
   ]
  },
  {
   "cell_type": "code",
   "execution_count": 33,
   "metadata": {},
   "outputs": [
    {
     "name": "stdout",
     "output_type": "stream",
     "text": [
      "1202    11\n",
      "Name: rating_numerator, dtype: object\n",
      "1165    13\n",
      "Name: rating_numerator, dtype: object\n",
      "1068    14\n",
      "Name: rating_numerator, dtype: object\n",
      "1662    10\n",
      "Name: rating_numerator, dtype: object\n",
      "2335    9\n",
      "Name: rating_numerator, dtype: object\n"
     ]
    }
   ],
   "source": [
    "id_list = ['716439118184652801','722974582966214656','740373189193256964','682962037429899265','666287406224695296']\n",
    "for ids in id_list:\n",
    "    print(twitter_archive_clean.loc[twitter_archive_clean['tweet_id']== ids, 'rating_numerator'])\n",
    "#convert back to int datatype\n",
    "twitter_archive_clean['rating_numerator'] = twitter_archive_clean['rating_numerator'].astype(int)"
   ]
  },
  {
   "cell_type": "code",
   "execution_count": 34,
   "metadata": {},
   "outputs": [
    {
     "name": "stdout",
     "output_type": "stream",
     "text": [
      "1202    10\n",
      "Name: rating_denominator, dtype: int64\n",
      "1165    10\n",
      "Name: rating_denominator, dtype: int64\n",
      "1068    10\n",
      "Name: rating_denominator, dtype: int64\n",
      "1662    10\n",
      "Name: rating_denominator, dtype: int64\n",
      "2335    10\n",
      "Name: rating_denominator, dtype: int64\n"
     ]
    }
   ],
   "source": [
    "id_list = ['716439118184652801','722974582966214656','740373189193256964','682962037429899265','666287406224695296']\n",
    "for ids in id_list:\n",
    "    print(twitter_archive_clean.loc[twitter_archive_clean['tweet_id']== ids, 'rating_denominator'])"
   ]
  },
  {
   "cell_type": "markdown",
   "metadata": {},
   "source": [
    "### Issue #9:"
   ]
  },
  {
   "cell_type": "markdown",
   "metadata": {},
   "source": [
    "#### Define:\n",
    "Count the number of entries which had denominators greater or less than 10 and drop (if it would not affect the dataset), to ensure fair analysis"
   ]
  },
  {
   "cell_type": "markdown",
   "metadata": {},
   "source": [
    "#### Code:"
   ]
  },
  {
   "cell_type": "code",
   "execution_count": 35,
   "metadata": {},
   "outputs": [
    {
     "data": {
      "text/plain": [
       "12"
      ]
     },
     "execution_count": 35,
     "metadata": {},
     "output_type": "execute_result"
    }
   ],
   "source": [
    "twitter_archive_clean.query('rating_denominator != 10')['rating_denominator'].count()"
   ]
  },
  {
   "cell_type": "code",
   "execution_count": 36,
   "metadata": {},
   "outputs": [],
   "source": [
    "#since there are only about twelve tweets with rating denominators not equal to 10,\n",
    "#the rows can be dropped to ensure fair analysis when working with ratings\n",
    "twitter_archive_clean.drop(index = (twitter_archive_clean.query('rating_denominator != 10').index), axis = 0, inplace = True)"
   ]
  },
  {
   "cell_type": "markdown",
   "metadata": {},
   "source": [
    "#### Test:"
   ]
  },
  {
   "cell_type": "code",
   "execution_count": 37,
   "metadata": {},
   "outputs": [
    {
     "data": {
      "text/plain": [
       "0"
      ]
     },
     "execution_count": 37,
     "metadata": {},
     "output_type": "execute_result"
    }
   ],
   "source": [
    "twitter_archive_clean.query('rating_denominator != 10')['rating_denominator'].count()"
   ]
  },
  {
   "cell_type": "markdown",
   "metadata": {},
   "source": [
    "### Issue #10:"
   ]
  },
  {
   "cell_type": "markdown",
   "metadata": {},
   "source": [
    "#### Define:\n",
    "from the image_predictions table, drop columns not needed for analysis"
   ]
  },
  {
   "cell_type": "markdown",
   "metadata": {},
   "source": [
    "#### Code:"
   ]
  },
  {
   "cell_type": "code",
   "execution_count": 38,
   "metadata": {},
   "outputs": [],
   "source": [
    "image_predictions.drop('jpg_url', axis = 1, inplace = True)"
   ]
  },
  {
   "cell_type": "markdown",
   "metadata": {},
   "source": [
    "#### Test:"
   ]
  },
  {
   "cell_type": "code",
   "execution_count": 39,
   "metadata": {},
   "outputs": [],
   "source": [
    "assert 'jpg_url' not in image_predictions.columns.values"
   ]
  },
  {
   "cell_type": "markdown",
   "metadata": {},
   "source": [
    "## Tidiness Issues:\n",
    "### Issue #11:"
   ]
  },
  {
   "cell_type": "markdown",
   "metadata": {},
   "source": [
    "#### Define:\n",
    "combine the four dog stages columns into a single column"
   ]
  },
  {
   "cell_type": "markdown",
   "metadata": {},
   "source": [
    "#### Code:"
   ]
  },
  {
   "cell_type": "code",
   "execution_count": 40,
   "metadata": {},
   "outputs": [
    {
     "data": {
      "text/plain": [
       "None,None,None,None        1749\n",
       "None,None,pupper,None       221\n",
       "doggo,None,None,None         72\n",
       "None,None,None,puppo         23\n",
       "None,floofer,None,None        9\n",
       "doggo,None,pupper,None        9\n",
       "doggo,None,None,puppo         1\n",
       "doggo,floofer,None,None       1\n",
       "Name: stage, dtype: int64"
      ]
     },
     "execution_count": 40,
     "metadata": {},
     "output_type": "execute_result"
    }
   ],
   "source": [
    "twitter_archive_clean['stage'] = twitter_archive_clean['doggo'] + ',' + twitter_archive_clean['floofer'] + ',' + twitter_archive_clean['pupper'] + ',' + twitter_archive_clean['puppo']\n",
    "twitter_archive_clean['stage'].value_counts()"
   ]
  },
  {
   "cell_type": "code",
   "execution_count": 41,
   "metadata": {},
   "outputs": [],
   "source": [
    "def stage_clean(a,b):\n",
    "    twitter_archive_clean['stage'] = twitter_archive_clean['stage'].replace(a, b)\n",
    "stage_clean('None,None,None,None', 'None')\n",
    "stage_clean('None,None,pupper,None', 'pupper')\n",
    "stage_clean('doggo,None,None,None', 'doggo')\n",
    "stage_clean('None,None,None,puppo', 'puppo')\n",
    "stage_clean('None,floofer,None,None', 'floofer')\n",
    "stage_clean('doggo,None,pupper,None', 'doggo, pupper')\n",
    "stage_clean('doggo,None,None,puppo', 'doggo, puppo')\n",
    "stage_clean('doggo,floofer,None,None', 'doggo, floofer')"
   ]
  },
  {
   "cell_type": "code",
   "execution_count": 42,
   "metadata": {},
   "outputs": [],
   "source": [
    "#drop the doggo, floofer, pupper and puppo columns\n",
    "drop_list = ['doggo','floofer','pupper','puppo']\n",
    "for col in drop_list:\n",
    "    twitter_archive_clean.drop(col, axis = 1, inplace= True)"
   ]
  },
  {
   "cell_type": "markdown",
   "metadata": {},
   "source": [
    "#### Test:"
   ]
  },
  {
   "cell_type": "code",
   "execution_count": 43,
   "metadata": {},
   "outputs": [
    {
     "data": {
      "text/html": [
       "<div>\n",
       "<style scoped>\n",
       "    .dataframe tbody tr th:only-of-type {\n",
       "        vertical-align: middle;\n",
       "    }\n",
       "\n",
       "    .dataframe tbody tr th {\n",
       "        vertical-align: top;\n",
       "    }\n",
       "\n",
       "    .dataframe thead th {\n",
       "        text-align: right;\n",
       "    }\n",
       "</style>\n",
       "<table border=\"1\" class=\"dataframe\">\n",
       "  <thead>\n",
       "    <tr style=\"text-align: right;\">\n",
       "      <th></th>\n",
       "      <th>tweet_id</th>\n",
       "      <th>text</th>\n",
       "      <th>rating_numerator</th>\n",
       "      <th>rating_denominator</th>\n",
       "      <th>name</th>\n",
       "      <th>stage</th>\n",
       "    </tr>\n",
       "  </thead>\n",
       "  <tbody>\n",
       "    <tr>\n",
       "      <th>1282</th>\n",
       "      <td>708738143638450176</td>\n",
       "      <td>This is Coco. She gets to stay on the Bachelor...</td>\n",
       "      <td>11</td>\n",
       "      <td>10</td>\n",
       "      <td>Coco</td>\n",
       "      <td>None</td>\n",
       "    </tr>\n",
       "    <tr>\n",
       "      <th>31</th>\n",
       "      <td>886258384151887873</td>\n",
       "      <td>This is Waffles. His doggles are pupside down....</td>\n",
       "      <td>13</td>\n",
       "      <td>10</td>\n",
       "      <td>Waffles</td>\n",
       "      <td>None</td>\n",
       "    </tr>\n",
       "    <tr>\n",
       "      <th>2206</th>\n",
       "      <td>668631377374486528</td>\n",
       "      <td>Meet Zeek. He is a grey Cumulonimbus. Zeek is ...</td>\n",
       "      <td>5</td>\n",
       "      <td>10</td>\n",
       "      <td>Zeek</td>\n",
       "      <td>None</td>\n",
       "    </tr>\n",
       "  </tbody>\n",
       "</table>\n",
       "</div>"
      ],
      "text/plain": [
       "                tweet_id                                               text  \\\n",
       "1282  708738143638450176  This is Coco. She gets to stay on the Bachelor...   \n",
       "31    886258384151887873  This is Waffles. His doggles are pupside down....   \n",
       "2206  668631377374486528  Meet Zeek. He is a grey Cumulonimbus. Zeek is ...   \n",
       "\n",
       "      rating_numerator  rating_denominator     name stage  \n",
       "1282                11                  10     Coco  None  \n",
       "31                  13                  10  Waffles  None  \n",
       "2206                 5                  10     Zeek  None  "
      ]
     },
     "execution_count": 43,
     "metadata": {},
     "output_type": "execute_result"
    }
   ],
   "source": [
    "twitter_archive_clean.sample(3)"
   ]
  },
  {
   "cell_type": "markdown",
   "metadata": {},
   "source": [
    "### Issue #12:"
   ]
  },
  {
   "cell_type": "markdown",
   "metadata": {},
   "source": [
    "#### Define:\n",
    "combine the three dataframes into one"
   ]
  },
  {
   "cell_type": "markdown",
   "metadata": {},
   "source": [
    "#### Code:"
   ]
  },
  {
   "cell_type": "code",
   "execution_count": 44,
   "metadata": {},
   "outputs": [],
   "source": [
    "#merge the first two datasets, then merge on the third\n",
    "df1 = pd.merge(twitter_archive_clean, df_tweets, how = \"inner\", on = \"tweet_id\")\n",
    "df = pd.merge(df1, image_predictions, how = \"inner\", on = \"tweet_id\")"
   ]
  },
  {
   "cell_type": "markdown",
   "metadata": {},
   "source": [
    "#### Test: "
   ]
  },
  {
   "cell_type": "code",
   "execution_count": 45,
   "metadata": {},
   "outputs": [
    {
     "data": {
      "text/html": [
       "<div>\n",
       "<style scoped>\n",
       "    .dataframe tbody tr th:only-of-type {\n",
       "        vertical-align: middle;\n",
       "    }\n",
       "\n",
       "    .dataframe tbody tr th {\n",
       "        vertical-align: top;\n",
       "    }\n",
       "\n",
       "    .dataframe thead th {\n",
       "        text-align: right;\n",
       "    }\n",
       "</style>\n",
       "<table border=\"1\" class=\"dataframe\">\n",
       "  <thead>\n",
       "    <tr style=\"text-align: right;\">\n",
       "      <th></th>\n",
       "      <th>tweet_id</th>\n",
       "      <th>text</th>\n",
       "      <th>rating_numerator</th>\n",
       "      <th>rating_denominator</th>\n",
       "      <th>name</th>\n",
       "      <th>stage</th>\n",
       "      <th>retweet_count</th>\n",
       "      <th>favorite_count</th>\n",
       "      <th>img_num</th>\n",
       "      <th>p1</th>\n",
       "      <th>p1_conf</th>\n",
       "      <th>p1_dog</th>\n",
       "      <th>p2</th>\n",
       "      <th>p2_conf</th>\n",
       "      <th>p2_dog</th>\n",
       "      <th>p3</th>\n",
       "      <th>p3_conf</th>\n",
       "      <th>p3_dog</th>\n",
       "    </tr>\n",
       "  </thead>\n",
       "  <tbody>\n",
       "    <tr>\n",
       "      <th>0</th>\n",
       "      <td>892420643555336193</td>\n",
       "      <td>This is Phineas. He's a mystical boy. Only eve...</td>\n",
       "      <td>13</td>\n",
       "      <td>10</td>\n",
       "      <td>Phineas</td>\n",
       "      <td>None</td>\n",
       "      <td>8853</td>\n",
       "      <td>39467</td>\n",
       "      <td>1</td>\n",
       "      <td>orange</td>\n",
       "      <td>0.097049</td>\n",
       "      <td>False</td>\n",
       "      <td>bagel</td>\n",
       "      <td>0.085851</td>\n",
       "      <td>False</td>\n",
       "      <td>banana</td>\n",
       "      <td>0.076110</td>\n",
       "      <td>False</td>\n",
       "    </tr>\n",
       "    <tr>\n",
       "      <th>1</th>\n",
       "      <td>892177421306343426</td>\n",
       "      <td>This is Tilly. She's just checking pup on you....</td>\n",
       "      <td>13</td>\n",
       "      <td>10</td>\n",
       "      <td>Tilly</td>\n",
       "      <td>None</td>\n",
       "      <td>6514</td>\n",
       "      <td>33819</td>\n",
       "      <td>1</td>\n",
       "      <td>Chihuahua</td>\n",
       "      <td>0.323581</td>\n",
       "      <td>True</td>\n",
       "      <td>Pekinese</td>\n",
       "      <td>0.090647</td>\n",
       "      <td>True</td>\n",
       "      <td>papillon</td>\n",
       "      <td>0.068957</td>\n",
       "      <td>True</td>\n",
       "    </tr>\n",
       "    <tr>\n",
       "      <th>2</th>\n",
       "      <td>891815181378084864</td>\n",
       "      <td>This is Archie. He is a rare Norwegian Pouncin...</td>\n",
       "      <td>12</td>\n",
       "      <td>10</td>\n",
       "      <td>Archie</td>\n",
       "      <td>None</td>\n",
       "      <td>4328</td>\n",
       "      <td>25461</td>\n",
       "      <td>1</td>\n",
       "      <td>Chihuahua</td>\n",
       "      <td>0.716012</td>\n",
       "      <td>True</td>\n",
       "      <td>malamute</td>\n",
       "      <td>0.078253</td>\n",
       "      <td>True</td>\n",
       "      <td>kelpie</td>\n",
       "      <td>0.031379</td>\n",
       "      <td>True</td>\n",
       "    </tr>\n",
       "  </tbody>\n",
       "</table>\n",
       "</div>"
      ],
      "text/plain": [
       "             tweet_id                                               text  \\\n",
       "0  892420643555336193  This is Phineas. He's a mystical boy. Only eve...   \n",
       "1  892177421306343426  This is Tilly. She's just checking pup on you....   \n",
       "2  891815181378084864  This is Archie. He is a rare Norwegian Pouncin...   \n",
       "\n",
       "   rating_numerator  rating_denominator     name stage  retweet_count  \\\n",
       "0                13                  10  Phineas  None           8853   \n",
       "1                13                  10    Tilly  None           6514   \n",
       "2                12                  10   Archie  None           4328   \n",
       "\n",
       "   favorite_count  img_num         p1   p1_conf  p1_dog        p2   p2_conf  \\\n",
       "0           39467        1     orange  0.097049   False     bagel  0.085851   \n",
       "1           33819        1  Chihuahua  0.323581    True  Pekinese  0.090647   \n",
       "2           25461        1  Chihuahua  0.716012    True  malamute  0.078253   \n",
       "\n",
       "   p2_dog        p3   p3_conf  p3_dog  \n",
       "0   False    banana  0.076110   False  \n",
       "1    True  papillon  0.068957    True  \n",
       "2    True    kelpie  0.031379    True  "
      ]
     },
     "execution_count": 45,
     "metadata": {},
     "output_type": "execute_result"
    }
   ],
   "source": [
    "df.head(3)"
   ]
  },
  {
   "cell_type": "markdown",
   "metadata": {},
   "source": [
    "## Storing Data\n",
    "Save gathered, assessed, and cleaned master dataset to a CSV file named \"twitter_archive_master.csv\"."
   ]
  },
  {
   "cell_type": "code",
   "execution_count": 46,
   "metadata": {},
   "outputs": [],
   "source": [
    "df.to_csv(\"twitter_archive_master.csv\", index = False)"
   ]
  },
  {
   "cell_type": "markdown",
   "metadata": {},
   "source": [
    "## Analyzing and Visualizing Data\n",
    "In this section, analyze and visualize your wrangled data. You must produce at least **three (3) insights and one (1) visualization.**"
   ]
  },
  {
   "cell_type": "code",
   "execution_count": 47,
   "metadata": {},
   "outputs": [],
   "source": [
    "#the project would be analyzed based on the value predicted by p1_dog\n",
    "#which happened to be the prediction with highest confidence interval\n",
    "df_new = df.query('p1_dog == True')"
   ]
  },
  {
   "cell_type": "code",
   "execution_count": 48,
   "metadata": {},
   "outputs": [
    {
     "data": {
      "text/plain": [
       "name\n",
       "Bo         136148\n",
       "Zoey       133776\n",
       "Duddles    107956\n",
       "Stephan    107015\n",
       "Jamesy     106827\n",
       "Name: favorite_count, dtype: int64"
      ]
     },
     "execution_count": 48,
     "metadata": {},
     "output_type": "execute_result"
    }
   ],
   "source": [
    "#what names of dogs had the top five total favorite_count ever?\n",
    "df_new.groupby('name')['favorite_count'].sum().nlargest(5)"
   ]
  },
  {
   "cell_type": "code",
   "execution_count": 49,
   "metadata": {},
   "outputs": [
    {
     "data": {
      "text/plain": [
       "name\n",
       "Stephan    56625\n",
       "Bo         54924\n",
       "Duddles    45849\n",
       "Buddy      37686\n",
       "Zoey       35236\n",
       "Name: retweet_count, dtype: int64"
      ]
     },
     "execution_count": 49,
     "metadata": {},
     "output_type": "execute_result"
    }
   ],
   "source": [
    "#top five names with most retweet_count\n",
    "df_new.groupby('name')['retweet_count'].sum().nlargest(5)"
   ]
  },
  {
   "cell_type": "code",
   "execution_count": 50,
   "metadata": {},
   "outputs": [
    {
     "data": {
      "text/plain": [
       "stage\n",
       "None             10782249\n",
       "pupper            1158974\n",
       "doggo              986705\n",
       "puppo              423856\n",
       "doggo, pupper       97024\n",
       "Name: favorite_count, dtype: int64"
      ]
     },
     "execution_count": 50,
     "metadata": {},
     "output_type": "execute_result"
    }
   ],
   "source": [
    "#top five most liked stages\n",
    "df_new.groupby('stage')['favorite_count'].sum().nlargest(5)"
   ]
  },
  {
   "cell_type": "code",
   "execution_count": 51,
   "metadata": {},
   "outputs": [
    {
     "data": {
      "text/plain": [
       "name    stage \n",
       "Jamesy  pupper    106827.0\n",
       "Bo      doggo      95450.0\n",
       "Barney  doggo      48410.0\n",
       "Cupid   doggo      40325.0\n",
       "Astrid  doggo      38074.0\n",
       "Name: favorite_count, dtype: float64"
      ]
     },
     "execution_count": 51,
     "metadata": {},
     "output_type": "execute_result"
    }
   ],
   "source": [
    "#combinations of names and stages(defined, not null) with highest average likes \n",
    "df_new.query('stage != \"None\"').groupby(['name', 'stage'])['favorite_count'].mean().nlargest(5)"
   ]
  },
  {
   "cell_type": "code",
   "execution_count": 52,
   "metadata": {},
   "outputs": [
    {
     "data": {
      "text/plain": [
       "0.3695801789401239"
      ]
     },
     "execution_count": 52,
     "metadata": {},
     "output_type": "execute_result"
    }
   ],
   "source": [
    "#proprtion of dogs rated ten or below\n",
    "ten = df_new.query('rating_numerator <= 10').count()\n",
    "total = df_new['rating_numerator'].count()\n",
    "proportion = ten/total\n",
    "proportion['rating_numerator']"
   ]
  },
  {
   "cell_type": "code",
   "execution_count": 53,
   "metadata": {},
   "outputs": [
    {
     "data": {
      "text/plain": [
       "0.14934618031658636"
      ]
     },
     "execution_count": 53,
     "metadata": {},
     "output_type": "execute_result"
    }
   ],
   "source": [
    "#does number of dogs per image affect its prediction?\n",
    "more_img = df_new.query('img_num > 1').count()\n",
    "img_true = df_new.count()\n",
    "proportion = more_img/img_true\n",
    "proportion['img_num']"
   ]
  },
  {
   "cell_type": "markdown",
   "metadata": {},
   "source": [
    "### Insights:\n",
    "1. Names like Bo, Stephan, Zoey, Duddles, Jamsey and Buddy were observed to be most liked.\n",
    "\n",
    "2. A pupper dog named Jamsey had a higher posibility of being liked more than other pupper dogs, likewise doggo dogs named Bo, Barney, Cupid or Astrid had higher possibillity of being liked compared to other doggo dog names.\n",
    "\n",
    "3. The possibility of @we_rate_dogs on twitter to rate a dog 10 or below (over 10) is not very slim, about 40%\n",
    "\n",
    "4. Having more than two number of dogs per images does not affect its prediction on it being dog or not."
   ]
  },
  {
   "cell_type": "markdown",
   "metadata": {
    "collapsed": true
   },
   "source": [
    "### Visualization"
   ]
  },
  {
   "cell_type": "code",
   "execution_count": 54,
   "metadata": {},
   "outputs": [
    {
     "data": {
      "image/png": "[encoded data removed]",
      "text/plain": [
       "<Figure size 576x576 with 1 Axes>"
      ]
     },
     "metadata": {
      "needs_background": "light"
     },
     "output_type": "display_data"
    }
   ],
   "source": [
    "#what names of dogs had the top five total favorite_count ever?\n",
    "fav_name = df_new.groupby('name')['favorite_count'].sum().nlargest(5)\n",
    "fav_name.plot(kind = 'bar', figsize =(8,8))\n",
    "plt.xlabel('Name', fontsize = 15)\n",
    "plt.ylabel('Favorite Counts', fontsize = 15)\n",
    "plt.xticks(rotation = 90, fontsize = 15)\n",
    "plt.title('Top 5 Dog Names with Highest Likes', fontsize = 17);"
   ]
  },
  {
   "cell_type": "code",
   "execution_count": 55,
   "metadata": {},
   "outputs": [
    {
     "data": {
      "image/png": "[encoded data removed]",
      "text/plain": [
       "<Figure size 576x576 with 1 Axes>"
      ]
     },
     "metadata": {
      "needs_background": "light"
     },
     "output_type": "display_data"
    }
   ],
   "source": [
    "#combinations of names and stages(defined, not null) with highest average likes \n",
    "name_stage = df_new.query('stage != \"None\"').groupby(['name', 'stage'])['favorite_count'].mean().nlargest(5)\n",
    "name_stage.plot(kind = 'bar', figsize =(8,8), color = 'purple', alpha = .7)\n",
    "plt.xlabel('Name, Stage', fontsize = 15)\n",
    "plt.ylabel('Favorite Counts', fontsize = 15)\n",
    "plt.xticks(fontsize = 15)\n",
    "plt.title('Top 5 Dog Names and Stages with Highest Average Likes', fontsize = 17);"
   ]
  },
  {
   "cell_type": "code",
   "execution_count": 56,
   "metadata": {},
   "outputs": [
    {
     "data": {
      "image/png": "[encoded data removed]",
      "text/plain": [
       "<Figure size 576x576 with 1 Axes>"
      ]
     },
     "metadata": {
      "needs_background": "light"
     },
     "output_type": "display_data"
    }
   ],
   "source": [
    "#does rating_numerator correlate with favorite_count?\n",
    "plt.figure(figsize =(8,8))\n",
    "sns.scatterplot(data = df_new, x= 'rating_numerator', y= 'favorite_count', color = 'red')\n",
    "plt.xlabel('Rating Numerator', fontsize = 15)\n",
    "plt.ylabel('Favorite Counts', fontsize = 15)\n",
    "plt.title('Correlation Between Ratings and Likes', fontsize = 17)\n",
    "plt.grid(True);"
   ]
  },
  {
   "cell_type": "markdown",
   "metadata": {},
   "source": [
    "There seemed to be no relationship between ratings and favorite_counts. Hence, a higher or lower rating does not influence the number of likes"
   ]
  },
  {
   "cell_type": "code",
   "execution_count": 57,
   "metadata": {},
   "outputs": [],
   "source": [
    "#what combination of names and stages were least liked?\n",
    "name_stage = df_new.groupby(['name', 'stage'])['favorite_count'].mean().nsmallest(5)"
   ]
  },
  {
   "cell_type": "code",
   "execution_count": 58,
   "metadata": {
    "scrolled": true
   },
   "outputs": [
    {
     "data": {
      "image/png": "[encoded data removed]",
      "text/plain": [
       "<Figure size 720x576 with 1 Axes>"
      ]
     },
     "metadata": {
      "needs_background": "light"
     },
     "output_type": "display_data"
    }
   ],
   "source": [
    "#name_stage.plot(kind = 'bar', figsize =(8,8))\n",
    "plt.figure(figsize = (10,8))\n",
    "plt.barh(np.arange(len(name_stage)), name_stage, alpha = .9)\n",
    "plt.yticks(np.arange(len(name_stage)), name_stage.index, fontsize = 15)\n",
    "plt.xlabel('Favorite Counts', fontsize = 15)\n",
    "plt.ylabel('Name, Stage', fontsize = 15)\n",
    "plt.title('The Least Liked Dog Names and their Stages', fontsize = 17);"
   ]
  },
  {
   "cell_type": "markdown",
   "metadata": {},
   "source": [
    "Names like Christopher, Daryl, Fwed, Klint, Keet; with stages unspecified were least liked"
   ]
  }
 ],
 "metadata": {
  "extensions": {
   "jupyter_dashboards": {
    "activeView": "report_default",
    "version": 1,
    "views": {
     "grid_default": {
      "cellMargin": 10,
      "defaultCellHeight": 20,
      "maxColumns": 12,
      "name": "grid",
      "type": "grid"
     },
     "report_default": {
      "name": "report",
      "type": "report"
     }
    }
   }
  },
  "kernelspec": {
   "display_name": "Python 3 (ipykernel)",
   "language": "python",
   "name": "python3"
  },
  "language_info": {
   "codemirror_mode": {
    "name": "ipython",
    "version": 3
   },
   "file_extension": ".py",
   "mimetype": "text/x-python",
   "name": "python",
   "nbconvert_exporter": "python",
   "pygments_lexer": "ipython3",
   "version": "3.9.12"
  }
 },
 "nbformat": 4,
 "nbformat_minor": 2
}
